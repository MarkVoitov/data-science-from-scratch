{
 "cells": [
  {
   "cell_type": "markdown",
   "metadata": {},
   "source": [
    "# Vectors"
   ]
  },
  {
   "cell_type": "code",
   "execution_count": 40,
   "metadata": {},
   "outputs": [
    {
     "data": {
      "text/plain": [
       "[5, 7, 9]"
      ]
     },
     "execution_count": 40,
     "metadata": {},
     "output_type": "execute_result"
    }
   ],
   "source": [
    "import math\n",
    "\n",
    "\n",
    "def vector_add(v, w):\n",
    "    # adds corresponding elements\n",
    "    return [v_i + w_i for v_i, w_i in zip(v, w)]\n",
    "\n",
    "\n",
    "vector_add([1, 2, 3], [4, 5, 6])"
   ]
  },
  {
   "cell_type": "code",
   "execution_count": 34,
   "metadata": {},
   "outputs": [
    {
     "data": {
      "text/plain": [
       "[1, 2, 3]"
      ]
     },
     "execution_count": 34,
     "metadata": {},
     "output_type": "execute_result"
    }
   ],
   "source": [
    "def vector_subtract(v, w):\n",
    "    # subtracts corresponding elements\n",
    "    return [v_i - w_i for v_i, w_i in zip(v, w)]\n",
    "\n",
    "\n",
    "vector_subtract([5, 7, 9], [4, 5, 6])"
   ]
  },
  {
   "cell_type": "code",
   "execution_count": 35,
   "metadata": {},
   "outputs": [
    {
     "data": {
      "text/plain": [
       "[16, 20]"
      ]
     },
     "execution_count": 35,
     "metadata": {},
     "output_type": "execute_result"
    }
   ],
   "source": [
    "def vector_sum(vectors):\n",
    "    # sums all corresponding elements\n",
    "    result = vectors[0]                       # begin from the 1st vector\n",
    "    for vector in vectors[1:]:                # go in the loop through the rest of the vectors\n",
    "        result = vector_add(result, vector)   # and add them to the result\n",
    "    return result\n",
    "\n",
    "\n",
    "vector_sum([[1, 2], [3, 4], [5, 6], [7, 8]])"
   ]
  },
  {
   "cell_type": "code",
   "execution_count": 36,
   "metadata": {},
   "outputs": [
    {
     "data": {
      "text/plain": [
       "[2, 4, 6]"
      ]
     },
     "execution_count": 36,
     "metadata": {},
     "output_type": "execute_result"
    }
   ],
   "source": [
    "def scalar_multiply(c, v):\n",
    "    # multiplies every element by c, c is a number, v is a vector\n",
    "    return [c * v_i for v_i in v]\n",
    "\n",
    "\n",
    "scalar_multiply(2, [1, 2, 3])"
   ]
  },
  {
   "cell_type": "code",
   "execution_count": 25,
   "metadata": {},
   "outputs": [
    {
     "data": {
      "text/plain": [
       "[3.0, 4.0]"
      ]
     },
     "execution_count": 25,
     "metadata": {},
     "output_type": "execute_result"
    }
   ],
   "source": [
    "def vector_mean(vectors):\n",
    "    # computes the element-wise average\n",
    "    n = len(vectors)\n",
    "    return scalar_multiply(1/n, vector_sum(vectors))\n",
    "\n",
    "\n",
    "vector_mean([[1, 2], [3, 4], [5, 6]])"
   ]
  },
  {
   "cell_type": "code",
   "execution_count": 37,
   "metadata": {},
   "outputs": [
    {
     "data": {
      "text/plain": [
       "32"
      ]
     },
     "execution_count": 37,
     "metadata": {},
     "output_type": "execute_result"
    }
   ],
   "source": [
    "def dot(v, w):\n",
    "    # computes v_1 * w_1 + ... + v_n * w_n\n",
    "    return sum(v_i * w_i for v_i, w_i in zip(v, w))\n",
    "\n",
    "\n",
    "dot([1, 2, 3], [4, 5, 6]) # 1 * 4 + 2 * 5 + 3 * 6"
   ]
  },
  {
   "cell_type": "code",
   "execution_count": 38,
   "metadata": {},
   "outputs": [
    {
     "data": {
      "text/plain": [
       "14"
      ]
     },
     "execution_count": 38,
     "metadata": {},
     "output_type": "execute_result"
    }
   ],
   "source": [
    "def sum_of_squares(v):\n",
    "    # returns v_1 * v_1 + ... + v_n * v_n\n",
    "    return dot(v, v)\n",
    "\n",
    "sum_of_squares([1, 2, 3]) # 1 * 1 + 2 * 2 + 3 * 3"
   ]
  },
  {
   "cell_type": "code",
   "execution_count": 41,
   "metadata": {},
   "outputs": [
    {
     "data": {
      "text/plain": [
       "5.0"
      ]
     },
     "execution_count": 41,
     "metadata": {},
     "output_type": "execute_result"
    }
   ],
   "source": [
    "def magnitude(v):\n",
    "    # returns the magnitude (or length) of v\n",
    "    return math.sqrt(sum_of_squares(v))\n",
    "\n",
    "\n",
    "magnitude([3, 4])"
   ]
  },
  {
   "cell_type": "code",
   "execution_count": 42,
   "metadata": {},
   "outputs": [],
   "source": [
    "def squared_distance(v, w):\n",
    "    # computes (v_1 - w_1) ** 2 + ... + (v_n - w_n) ** 2\n",
    "    return sum_of_squares(vector_subtract(v, w))\n",
    "\n",
    "\n",
    "def distance(v, w):\n",
    "    # computes the distance between v and w\n",
    "    return math.sqrt(squared_distance(v, w))"
   ]
  },
  {
   "cell_type": "markdown",
   "metadata": {},
   "source": [
    "# Matrices"
   ]
  },
  {
   "cell_type": "code",
   "execution_count": 30,
   "metadata": {},
   "outputs": [
    {
     "data": {
      "text/plain": [
       "(2, 3)"
      ]
     },
     "execution_count": 30,
     "metadata": {},
     "output_type": "execute_result"
    }
   ],
   "source": [
    "A = [[1, 2, 3],  # matrix A has 2 rows and 3 columns\n",
    "     [4, 5, 6]]\n",
    "\n",
    "B = [[1, 2],     # matrix B has 3 rows and 2 columns\n",
    "     [3, 4],\n",
    "     [5, 6]]\n",
    "\n",
    "\n",
    "def shape(A):\n",
    "    # returns (# of rows of A, # of columns of A)\n",
    "    num_rows = len(A)\n",
    "    num_cols = len(A[0]) if A else 0   # number of elements in first row\n",
    "    return num_rows, num_cols\n",
    "\n",
    "shape([[1, 2, 3], [4, 5, 6]]) # 2 rows, 3 columns"
   ]
  },
  {
   "cell_type": "code",
   "execution_count": 43,
   "metadata": {},
   "outputs": [],
   "source": [
    "def get_row(A, i):\n",
    "    # returns the i-th row of A (as a Vector)\n",
    "    return A[i]             # A[i] is already the ith row"
   ]
  },
  {
   "cell_type": "code",
   "execution_count": 44,
   "metadata": {},
   "outputs": [],
   "source": [
    "def get_column(A, j):\n",
    "    # returns the j-th column of A (as a Vector)\n",
    "    return [A_i[j]          # jth element of row A_i\n",
    "            for A_i in A]   # for each row A_i"
   ]
  },
  {
   "cell_type": "code",
   "execution_count": 45,
   "metadata": {},
   "outputs": [],
   "source": [
    "def make_matrix(num_rows, num_cols, entry_fn):\n",
    "    # returns a num_rows x num_cols matrix\n",
    "    # whose (i,j)-th entry is entry_fn(i, j)\n",
    "    return [[entry_fn(i, j)             # given i, create a list\n",
    "        for j in range(num_cols)]       # [entry_fn(i, 0), ... ]\n",
    "        for i in range(num_rows)]       # create one list for each i"
   ]
  },
  {
   "cell_type": "code",
   "execution_count": 47,
   "metadata": {},
   "outputs": [
    {
     "data": {
      "text/plain": [
       "[[1, 0, 0, 0, 0],\n",
       " [0, 1, 0, 0, 0],\n",
       " [0, 0, 1, 0, 0],\n",
       " [0, 0, 0, 1, 0],\n",
       " [0, 0, 0, 0, 1]]"
      ]
     },
     "execution_count": 47,
     "metadata": {},
     "output_type": "execute_result"
    }
   ],
   "source": [
    "def is_diagonal(i, j):\n",
    "    # ones diagonally, the remaining elements are zeros\n",
    "    return 1 if i == j else 0\n",
    "\n",
    "\n",
    "def identity_matrix(n):\n",
    "    # returns the n x n identity matrix\n",
    "    return make_matrix(n, n, is_diagonal)\n",
    "\n",
    "\n",
    "identity_matrix(5)"
   ]
  }
 ],
 "metadata": {
  "kernelspec": {
   "display_name": "Python 3",
   "language": "python",
   "name": "python3"
  },
  "language_info": {
   "codemirror_mode": {
    "name": "ipython",
    "version": 3
   },
   "file_extension": ".py",
   "mimetype": "text/x-python",
   "name": "python",
   "nbconvert_exporter": "python",
   "pygments_lexer": "ipython3",
   "version": "3.7.6"
  }
 },
 "nbformat": 4,
 "nbformat_minor": 4
}
