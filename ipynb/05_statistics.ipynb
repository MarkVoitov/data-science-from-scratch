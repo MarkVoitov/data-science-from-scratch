{
 "cells": [
  {
   "cell_type": "markdown",
   "metadata": {},
   "source": [
    "# Single dataset description"
   ]
  },
  {
   "cell_type": "code",
   "execution_count": 37,
   "metadata": {},
   "outputs": [
    {
     "data": {
      "text/plain": [
       "Text(0, 0.5, '# of people')"
      ]
     },
     "execution_count": 37,
     "metadata": {},
     "output_type": "execute_result"
    },
    {
     "data": {
      "image/png": "[encoded data removed]",
      "text/plain": [
       "<Figure size 432x288 with 1 Axes>"
      ]
     },
     "metadata": {
      "needs_background": "light"
     },
     "output_type": "display_data"
    }
   ],
   "source": [
    "from collections import Counter\n",
    "import matplotlib.pyplot as plt\n",
    "\n",
    "num_friends = [100,49,41,40,25,21,21,19,19,18,18,16,15,15,15,15,14,14,13,13,13,13,12,12,11,10,10,10,10,10,10,10,10,10,10,10,10,10,10,10,9,9,9,9,9,9,9,9,9,9,9,9,9,9,9,9,9,9,8,8,8,8,8,8,8,8,8,8,8,8,8,7,7,7,7,7,7,7,7,7,7,7,7,7,7,7,6,6,6,6,6,6,6,6,6,6,6,6,6,6,6,6,6,6,6,6,6,6,5,5,5,5,5,5,5,5,5,5,5,5,5,5,5,5,5,4,4,4,4,4,4,4,4,4,4,4,4,4,4,4,4,4,4,4,4,3,3,3,3,3,3,3,3,3,3,3,3,3,3,3,3,3,3,3,3,2,2,2,2,2,2,2,2,2,2,2,2,2,2,2,2,2,1,1,1,1,1,1,1,1,1,1,1,1,1,1,1,1,1,1,1,1,1,1]\n",
    "\n",
    "friend_counts = Counter(num_friends)\n",
    "xs = range(101)                         # largest value is 100\n",
    "ys = [friend_counts[x] for x in xs]     # height is just # of friends\n",
    "plt.bar(xs, ys)\n",
    "plt.axis([0, 101, 0, 25])\n",
    "plt.title(\"Histogram of Friend Counts\")\n",
    "plt.xlabel(\"# of friends\")\n",
    "plt.ylabel(\"# of people\")"
   ]
  },
  {
   "cell_type": "code",
   "execution_count": 38,
   "metadata": {},
   "outputs": [],
   "source": [
    "num_points = len(num_friends)               # 204\n",
    "\n",
    "largest_value = max(num_friends)            # 100\n",
    "smallest_value = min(num_friends)           # 1\n",
    "\n",
    "sorted_values = sorted(num_friends)\n",
    "smallest_value = sorted_values[0]           # 1\n",
    "second_smallest_value = sorted_values[1]    # 1\n",
    "second_largest_value = sorted_values[-2]    # 49"
   ]
  },
  {
   "cell_type": "markdown",
   "metadata": {},
   "source": [
    "# Measures of location"
   ]
  },
  {
   "cell_type": "code",
   "execution_count": 39,
   "metadata": {},
   "outputs": [
    {
     "data": {
      "text/plain": [
       "7.333333333333333"
      ]
     },
     "execution_count": 39,
     "metadata": {},
     "output_type": "execute_result"
    }
   ],
   "source": [
    "def mean(s):\n",
    "    return sum(s) / len(s)\n",
    "\n",
    "mean(num_friends)                           # 7.333333"
   ]
  },
  {
   "cell_type": "code",
   "execution_count": 40,
   "metadata": {},
   "outputs": [
    {
     "data": {
      "text/plain": [
       "6.0"
      ]
     },
     "execution_count": 40,
     "metadata": {},
     "output_type": "execute_result"
    }
   ],
   "source": [
    "def median(v):\n",
    "    # finds the 'middle-most' value of v\n",
    "    n = len(v)\n",
    "    sorted_v = sorted(v)\n",
    "    midpoint = n // 2\n",
    "    if n % 2 == 1:\n",
    "        return sorted_v[midpoint]\n",
    "    else:\n",
    "        lo = midpoint - 1\n",
    "        hi = midpoint\n",
    "        return (sorted_v[lo] + sorted_v[hi]) / 2\n",
    "    \n",
    "    \n",
    "median(num_friends)                          # 6.0"
   ]
  },
  {
   "cell_type": "code",
   "execution_count": 41,
   "metadata": {},
   "outputs": [
    {
     "data": {
      "text/plain": [
       "13"
      ]
     },
     "execution_count": 41,
     "metadata": {},
     "output_type": "execute_result"
    }
   ],
   "source": [
    "def quantile(x, p):\n",
    "    # returns the pth-percentile value in x\n",
    "    p_index = int(p * len(x))\n",
    "    return sorted(x)[p_index]\n",
    "\n",
    "quantile(num_friends, 0.10)\n",
    "quantile(num_friends, 0.25)\n",
    "quantile(num_friends, 0.75)\n",
    "quantile(num_friends, 0.90)"
   ]
  },
  {
   "cell_type": "code",
   "execution_count": 42,
   "metadata": {},
   "outputs": [
    {
     "data": {
      "text/plain": [
       "[6, 1]"
      ]
     },
     "execution_count": 42,
     "metadata": {},
     "output_type": "execute_result"
    }
   ],
   "source": [
    "def mode(x):\n",
    "    # returns a list, since there might be more than one mode\n",
    "    counts = Counter(x)\n",
    "    max_count = max(counts.values())\n",
    "    return [x_i for x_i, count in counts.items()\n",
    "            if count == max_count]\n",
    "\n",
    "mode(num_friends)"
   ]
  },
  {
   "cell_type": "markdown",
   "metadata": {},
   "source": [
    "# Indicators of variation"
   ]
  },
  {
   "cell_type": "code",
   "execution_count": 43,
   "metadata": {},
   "outputs": [
    {
     "data": {
      "text/plain": [
       "99"
      ]
     },
     "execution_count": 43,
     "metadata": {},
     "output_type": "execute_result"
    }
   ],
   "source": [
    "# \"range\" already means something in Python, so we'll use a different name\n",
    "def data_range(x):\n",
    "    return max(x) - min(x)\n",
    "\n",
    "data_range(num_friends)"
   ]
  },
  {
   "cell_type": "code",
   "execution_count": 44,
   "metadata": {},
   "outputs": [
    {
     "data": {
      "text/plain": [
       "[-7.333333333333333,\n",
       " -6.333333333333333,\n",
       " -5.333333333333333,\n",
       " -4.333333333333333,\n",
       " -3.333333333333333,\n",
       " -2.333333333333333,\n",
       " -1.333333333333333,\n",
       " -0.33333333333333304,\n",
       " 0.666666666666667,\n",
       " 1.666666666666667,\n",
       " 2.666666666666667,\n",
       " 3.666666666666667,\n",
       " 4.666666666666667,\n",
       " 5.666666666666667,\n",
       " 6.666666666666667,\n",
       " 7.666666666666667,\n",
       " 8.666666666666668,\n",
       " 9.666666666666668,\n",
       " 10.666666666666668,\n",
       " 11.666666666666668,\n",
       " 12.666666666666668,\n",
       " 13.666666666666668,\n",
       " 14.666666666666668,\n",
       " 15.666666666666668,\n",
       " 16.666666666666668,\n",
       " 17.666666666666668,\n",
       " 18.666666666666668,\n",
       " 19.666666666666668,\n",
       " 20.666666666666668,\n",
       " 21.666666666666668,\n",
       " 22.666666666666668,\n",
       " 23.666666666666668,\n",
       " 24.666666666666668,\n",
       " 25.666666666666668,\n",
       " 26.666666666666668,\n",
       " 27.666666666666668,\n",
       " 28.666666666666668,\n",
       " 29.666666666666668,\n",
       " 30.666666666666668,\n",
       " 31.666666666666668,\n",
       " 32.666666666666664,\n",
       " 33.666666666666664,\n",
       " 34.666666666666664,\n",
       " 35.666666666666664,\n",
       " 36.666666666666664,\n",
       " 37.666666666666664,\n",
       " 38.666666666666664,\n",
       " 39.666666666666664,\n",
       " 40.666666666666664,\n",
       " 41.666666666666664,\n",
       " 42.666666666666664,\n",
       " 43.666666666666664,\n",
       " 44.666666666666664,\n",
       " 45.666666666666664,\n",
       " 46.666666666666664,\n",
       " 47.666666666666664,\n",
       " 48.666666666666664,\n",
       " 49.666666666666664,\n",
       " 50.666666666666664,\n",
       " 51.666666666666664,\n",
       " 52.666666666666664,\n",
       " 53.666666666666664,\n",
       " 54.666666666666664,\n",
       " 55.666666666666664,\n",
       " 56.666666666666664,\n",
       " 57.666666666666664,\n",
       " 58.666666666666664,\n",
       " 59.666666666666664,\n",
       " 60.666666666666664,\n",
       " 61.666666666666664,\n",
       " 62.666666666666664,\n",
       " 63.666666666666664,\n",
       " 64.66666666666667,\n",
       " 65.66666666666667,\n",
       " 66.66666666666667,\n",
       " 67.66666666666667,\n",
       " 68.66666666666667,\n",
       " 69.66666666666667,\n",
       " 70.66666666666667,\n",
       " 71.66666666666667,\n",
       " 72.66666666666667,\n",
       " 73.66666666666667,\n",
       " 74.66666666666667,\n",
       " 75.66666666666667,\n",
       " 76.66666666666667,\n",
       " 77.66666666666667,\n",
       " 78.66666666666667,\n",
       " 79.66666666666667,\n",
       " 80.66666666666667,\n",
       " 81.66666666666667,\n",
       " 82.66666666666667,\n",
       " 83.66666666666667,\n",
       " 84.66666666666667,\n",
       " 85.66666666666667,\n",
       " 86.66666666666667,\n",
       " 87.66666666666667,\n",
       " 88.66666666666667,\n",
       " 89.66666666666667,\n",
       " 90.66666666666667,\n",
       " 91.66666666666667,\n",
       " 92.66666666666667]"
      ]
     },
     "execution_count": 44,
     "metadata": {},
     "output_type": "execute_result"
    }
   ],
   "source": [
    "def de_mean(x):\n",
    "    # translate x by subtracting its mean (so the result has mean 0)\n",
    "    x_bar = mean(x)\n",
    "    return [x - x_bar for x in xs]\n",
    "\n",
    "de_mean(num_friends)"
   ]
  },
  {
   "cell_type": "code",
   "execution_count": 45,
   "metadata": {},
   "outputs": [
    {
     "data": {
      "text/plain": [
       "27524"
      ]
     },
     "execution_count": 45,
     "metadata": {},
     "output_type": "execute_result"
    }
   ],
   "source": [
    "def sum_of_squares(x):\n",
    "    return sum(x * x for x in x)\n",
    "    \n",
    "sum_of_squares(num_friends)"
   ]
  },
  {
   "cell_type": "code",
   "execution_count": 46,
   "metadata": {},
   "outputs": [
    {
     "data": {
      "text/plain": [
       "1328.6447728516696"
      ]
     },
     "execution_count": 46,
     "metadata": {},
     "output_type": "execute_result"
    }
   ],
   "source": [
    "def variance(x):\n",
    "    # almost the average squared deviation from the mean\n",
    "    # variance requires at least two elements\n",
    "    n = len(x)\n",
    "    deviations = de_mean(x)\n",
    "    return sum_of_squares(deviations) / (n - 1)\n",
    "\n",
    "variance(num_friends)"
   ]
  },
  {
   "cell_type": "code",
   "execution_count": 47,
   "metadata": {},
   "outputs": [
    {
     "data": {
      "text/plain": [
       "36.45057986989603"
      ]
     },
     "execution_count": 47,
     "metadata": {},
     "output_type": "execute_result"
    }
   ],
   "source": [
    "def standard_deviation(x):\n",
    "    # the standard deviation is the square root of the variance\n",
    "    return math.sqrt(variance(x))\n",
    "\n",
    "standard_deviation(num_friends)"
   ]
  },
  {
   "cell_type": "code",
   "execution_count": 48,
   "metadata": {},
   "outputs": [
    {
     "data": {
      "text/plain": [
       "50"
      ]
     },
     "execution_count": 48,
     "metadata": {},
     "output_type": "execute_result"
    }
   ],
   "source": [
    "def interquartile_range(x):\n",
    "    # returns the difference between the 75%-ile and the 25%-ile\n",
    "    return quantile(xs, 0.75) - quantile(xs, 0.25)\n",
    "\n",
    "interquartile_range(num_friends)"
   ]
  },
  {
   "cell_type": "markdown",
   "metadata": {},
   "source": [
    "# Correlation"
   ]
  },
  {
   "cell_type": "code",
   "execution_count": 56,
   "metadata": {},
   "outputs": [
    {
     "data": {
      "text/plain": [
       "Text(0, 0.5, 'daily minutes spent on the site')"
      ]
     },
     "execution_count": 56,
     "metadata": {},
     "output_type": "execute_result"
    },
    {
     "data": {
      "image/png": "[encoded data removed]",
      "text/plain": [
       "<Figure size 432x288 with 1 Axes>"
      ]
     },
     "metadata": {
      "needs_background": "light"
     },
     "output_type": "display_data"
    }
   ],
   "source": [
    "daily_minutes = [1,68.77,51.25,52.08,38.36,44.54,57.13,51.4,41.42,31.22,34.76,54.01,38.79,47.59,49.1,27.66,41.03,36.73,48.65,28.12,46.62,35.57,32.98,35,26.07,23.77,39.73,40.57,31.65,31.21,36.32,20.45,21.93,26.02,27.34,23.49,46.94,30.5,33.8,24.23,21.4,27.94,32.24,40.57,25.07,19.42,22.39,18.42,46.96,23.72,26.41,26.97,36.76,40.32,35.02,29.47,30.2,31,38.11,38.18,36.31,21.03,30.86,36.07,28.66,29.08,37.28,15.28,24.17,22.31,30.17,25.53,19.85,35.37,44.6,17.23,13.47,26.33,35.02,32.09,24.81,19.33,28.77,24.26,31.98,25.73,24.86,16.28,34.51,15.23,39.72,40.8,26.06,35.76,34.76,16.13,44.04,18.03,19.65,32.62,35.59,39.43,14.18,35.24,40.13,41.82,35.45,36.07,43.67,24.61,20.9,21.9,18.79,27.61,27.21,26.61,29.77,20.59,27.53,13.82,33.2,25,33.1,36.65,18.63,14.87,22.2,36.81,25.53,24.62,26.25,18.21,28.08,19.42,29.79,32.8,35.99,28.32,27.79,35.88,29.06,36.28,14.1,36.63,37.49,26.9,18.58,38.48,24.48,18.95,33.55,14.24,29.04,32.51,25.63,22.22,19,32.73,15.16,13.9,27.2,32.01,29.27,33,13.74,20.42,27.32,18.23,35.35,28.48,9.08,24.62,20.12,35.26,19.92,31.02,16.49,12.16,30.7,31.22,34.65,13.13,27.51,33.2,31.57,14.1,33.42,17.44,10.12,24.42,9.82,23.39,30.93,15.03,21.67,31.09,33.29,22.61,26.89,23.48,8.38,27.81,32.35,23.84]\n",
    "\n",
    "plt.scatter(num_friends, daily_minutes)\n",
    "\n",
    "plt.title(\"Correlation with outlier\")\n",
    "plt.xlabel(\"# of friends\")\n",
    "plt.ylabel(\"daily minutes spent on the site\")"
   ]
  },
  {
   "cell_type": "code",
   "execution_count": null,
   "metadata": {},
   "outputs": [],
   "source": [
    "def dot(v, w):\n",
    "    # computes v_1 * w_1 + ... + v_n * w_n\n",
    "    return sum(v_i * w_i for v_i, w_i in zip(v, w))\n",
    "\n",
    "def covariance(x, y):\n",
    "    len(x) == len(y) # x and y must have same number of elements\n",
    "    return dot(de_mean(x), de_mean(y)) / (len(x) - 1)\n",
    "\n",
    "covariance(num_friends, daily_minutes)"
   ]
  },
  {
   "cell_type": "code",
   "execution_count": 51,
   "metadata": {},
   "outputs": [
    {
     "data": {
      "text/plain": [
       "0.9401554105618496"
      ]
     },
     "execution_count": 51,
     "metadata": {},
     "output_type": "execute_result"
    }
   ],
   "source": [
    "def correlation(x, y):\n",
    "    # measures how much x and y vary in tandem about their means\n",
    "    stdev_x = standard_deviation(x)\n",
    "    stdev_y = standard_deviation(y)\n",
    "    if stdev_x > 0 and stdev_y > 0:\n",
    "        return covariance(x, y) / stdev_x / stdev_y\n",
    "    else:\n",
    "        return 0    # if no variation, correlation is zero\n",
    "    \n",
    "correlation(num_friends, daily_minutes)"
   ]
  },
  {
   "cell_type": "code",
   "execution_count": 52,
   "metadata": {},
   "outputs": [
    {
     "data": {
      "text/plain": [
       "0.9373733073703848"
      ]
     },
     "execution_count": 52,
     "metadata": {},
     "output_type": "execute_result"
    }
   ],
   "source": [
    "outlier = num_friends.index(100)    # index of outlier\n",
    "\n",
    "num_friends_good = [x\n",
    "                    for i, x in enumerate(num_friends)\n",
    "                    if i != outlier]\n",
    "\n",
    "daily_minutes_good = [x\n",
    "                      for i, x in enumerate(daily_minutes)\n",
    "                      if i != outlier]\n",
    "\n",
    "correlation(num_friends_good, daily_minutes_good)"
   ]
  },
  {
   "cell_type": "code",
   "execution_count": 59,
   "metadata": {},
   "outputs": [
    {
     "data": {
      "text/plain": [
       "Text(0, 0.5, 'daily minutes spent on the site')"
      ]
     },
     "execution_count": 59,
     "metadata": {},
     "output_type": "execute_result"
    },
    {
     "data": {
      "image/png": "[encoded data removed]",
      "text/plain": [
       "<Figure size 432x288 with 1 Axes>"
      ]
     },
     "metadata": {
      "needs_background": "light"
     },
     "output_type": "display_data"
    }
   ],
   "source": [
    "plt.scatter(num_friends_good, daily_minutes_good)\n",
    "\n",
    "plt.title(\"Correlation after deleting outlier\")\n",
    "plt.xlabel(\"# of friends\")\n",
    "plt.ylabel(\"daily minutes spent on the site\")"
   ]
  },
  {
   "cell_type": "markdown",
   "metadata": {},
   "source": [
    "We deleted one outlier: a person who has 100 friends but he spends only one minute on the site yet.\n",
    "After analyzing two scatter plots (before deleting this outlier and after deleting) we can see that without outlier the correlation between the number of friends and the time spent on the site is stronger."
   ]
  }
 ],
 "metadata": {
  "kernelspec": {
   "display_name": "Python 3",
   "language": "python",
   "name": "python3"
  },
  "language_info": {
   "codemirror_mode": {
    "name": "ipython",
    "version": 3
   },
   "file_extension": ".py",
   "mimetype": "text/x-python",
   "name": "python",
   "nbconvert_exporter": "python",
   "pygments_lexer": "ipython3",
   "version": "3.7.6"
  }
 },
 "nbformat": 4,
 "nbformat_minor": 4
}
