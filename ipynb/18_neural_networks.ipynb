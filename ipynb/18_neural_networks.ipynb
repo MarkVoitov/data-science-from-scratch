{
 "cells": [
  {
   "cell_type": "code",
   "execution_count": 46,
   "metadata": {},
   "outputs": [],
   "source": [
    "import math, random\n",
    "import matplotlib\n",
    "import matplotlib.pyplot as plt"
   ]
  },
  {
   "cell_type": "code",
   "execution_count": 10,
   "metadata": {},
   "outputs": [],
   "source": [
    "def dot(v, w):\n",
    "    # computes v_1 * w_1 + ... + v_n * w_n\n",
    "    return sum(v_i * w_i for v_i, w_i in zip(v, w))"
   ]
  },
  {
   "cell_type": "markdown",
   "metadata": {},
   "source": [
    "# Perceptrons"
   ]
  },
  {
   "cell_type": "code",
   "execution_count": 3,
   "metadata": {},
   "outputs": [],
   "source": [
    "def step_function(x):\n",
    "    return 1 if x >= 0 else 0\n",
    "\n",
    "\n",
    "def perceptron_output(weights, bias, x):\n",
    "    \"\"\"returns 1 if the perceptron 'fires', 0 if not\"\"\"\n",
    "    calculation = dot(weights, x) + bias\n",
    "    return step_function(calculation)"
   ]
  },
  {
   "cell_type": "code",
   "execution_count": 4,
   "metadata": {},
   "outputs": [],
   "source": [
    "and_gate = min\n",
    "or_gate = max\n",
    "xor_gate = lambda x, y: 0 if x ==y else 1"
   ]
  },
  {
   "cell_type": "markdown",
   "metadata": {},
   "source": [
    "# Feed forward neural networks"
   ]
  },
  {
   "cell_type": "code",
   "execution_count": 6,
   "metadata": {},
   "outputs": [],
   "source": [
    "def sigmoid(t):\n",
    "    return 1 / (1 + math.exp(-t))\n",
    "\n",
    "\n",
    "def neuron_output(weights, inputs):\n",
    "    return sigmoid(dot(weights, inputs))"
   ]
  },
  {
   "cell_type": "code",
   "execution_count": 7,
   "metadata": {},
   "outputs": [],
   "source": [
    "def feed_forward(neural_network, input_vector):\n",
    "    \"\"\"takes in a neural network (represented as a list of lists of lists of weights)\n",
    "    and returns the output from forward-propagating the input\"\"\"\n",
    "\n",
    "    outputs = []\n",
    "\n",
    "    for layer in neural_network:\n",
    "\n",
    "        input_with_bias = input_vector + [1]             # add a bias input\n",
    "        output = [neuron_output(neuron, input_with_bias) # compute the output\n",
    "                  for neuron in layer]                   # for this layer\n",
    "        outputs.append(output)                           # and remember it\n",
    "\n",
    "        # the input to the next layer is the output of this one\n",
    "        input_vector = output\n",
    "\n",
    "    return outputs"
   ]
  },
  {
   "cell_type": "code",
   "execution_count": 13,
   "metadata": {},
   "outputs": [
    {
     "name": "stdout",
     "output_type": "stream",
     "text": [
      "0 0 [9.38314668300676e-14]\n",
      "0 1 [0.9999999999999059]\n",
      "1 0 [0.9999999999999059]\n",
      "1 1 [9.383146683006828e-14]\n"
     ]
    }
   ],
   "source": [
    "xor_network = [\n",
    "    [[20, 20, -30],\n",
    "     [20, 20, -10]],\n",
    "    \n",
    "     [[-60, 60, -30]]\n",
    "]\n",
    "\n",
    "for x in [0, 1]:\n",
    "    for y in [0, 1]:\n",
    "        print(x, y, feed_forward(xor_network, [x, y]) [-1])"
   ]
  },
  {
   "cell_type": "markdown",
   "metadata": {},
   "source": [
    "# Backpropagation"
   ]
  },
  {
   "cell_type": "code",
   "execution_count": 14,
   "metadata": {},
   "outputs": [],
   "source": [
    "def backpropagate(network, input_vector, target):\n",
    "\n",
    "    hidden_outputs, outputs = feed_forward(network, input_vector)\n",
    "\n",
    "    # the output * (1 - output) is from the derivative of sigmoid\n",
    "    output_deltas = [output * (1 - output) * (output - target[i])\n",
    "                     for i, output in enumerate(outputs)]\n",
    "\n",
    "    # adjust weights for output layer (network[-1])\n",
    "    for i, output_neuron in enumerate(network[-1]):\n",
    "        for j, hidden_output in enumerate(hidden_outputs + [1]):\n",
    "            output_neuron[j] -= output_deltas[i] * hidden_output\n",
    "\n",
    "    # back-propagate errors to hidden layer\n",
    "    hidden_deltas = [hidden_output * (1 - hidden_output) *\n",
    "                      dot(output_deltas, [n[i] for n in network[-1]])\n",
    "                     for i, hidden_output in enumerate(hidden_outputs)]\n",
    "\n",
    "    # adjust weights for hidden layer (network[0])\n",
    "    for i, hidden_neuron in enumerate(network[0]):\n",
    "        for j, input in enumerate(input_vector + [1]):\n",
    "            hidden_neuron[j] -= hidden_deltas[i] * input"
   ]
  },
  {
   "cell_type": "markdown",
   "metadata": {},
   "source": [
    "# Example: captcha overcoming "
   ]
  },
  {
   "cell_type": "code",
   "execution_count": 26,
   "metadata": {},
   "outputs": [],
   "source": [
    "# let's represent each digit in the form of a 5 x 5 pixel image\n",
    "raw_digits = [\n",
    "\"\"\"\n",
    "   11111\n",
    "   1...1\n",
    "   1...1\n",
    "   1...1\n",
    "   11111\"\"\",\n",
    "\n",
    "\"\"\"..1..\n",
    "   ..1..\n",
    "   ..1..\n",
    "   ..1..\n",
    "   ..1..\"\"\",\n",
    "\n",
    "\"\"\"11111\n",
    "   ....1\n",
    "   11111\n",
    "   1....\n",
    "   11111\"\"\",\n",
    "\n",
    "\"\"\"11111\n",
    "   ....1\n",
    "   11111\n",
    "   ....1\n",
    "   11111\"\"\",\n",
    "\n",
    "\"\"\"1...1\n",
    "   1...1\n",
    "   11111\n",
    "   ....1\n",
    "   ....1\"\"\",\n",
    "\n",
    "\"\"\"11111\n",
    "   1....\n",
    "   11111\n",
    "   ....1\n",
    "   11111\"\"\",\n",
    "\n",
    "\"\"\"11111\n",
    "   1....\n",
    "   11111\n",
    "   1...1\n",
    "   11111\"\"\",\n",
    "\n",
    "\"\"\"11111\n",
    "   ....1\n",
    "   ....1\n",
    "   ....1\n",
    "   ....1\"\"\",\n",
    "\n",
    "\"\"\"11111\n",
    "   1...1\n",
    "   11111\n",
    "   1...1\n",
    "   11111\"\"\",\n",
    "\n",
    "\"\"\"11111\n",
    "   1...1\n",
    "   11111\n",
    "   ....1\n",
    "   11111 \"\"\"\n",
    "]"
   ]
  },
  {
   "cell_type": "code",
   "execution_count": 27,
   "metadata": {},
   "outputs": [],
   "source": [
    "def make_digit(raw_digit):\n",
    "    return [1 if c == '1' else 0\n",
    "            for row in raw_digit.split(\"\\n\")\n",
    "            for c in row.strip()]\n",
    "\n",
    "inputs = list(map(make_digit, raw_digits))"
   ]
  },
  {
   "cell_type": "code",
   "execution_count": 28,
   "metadata": {},
   "outputs": [],
   "source": [
    "targets = [[1 if i == j else 0 for i in range(10)]\n",
    "           for j in range(10)]"
   ]
  },
  {
   "cell_type": "code",
   "execution_count": 29,
   "metadata": {},
   "outputs": [],
   "source": [
    "random.seed(0)   # to get repeatable results\n",
    "input_size = 25  # each input is a vector of length 25\n",
    "num_hidden = 5   # we'll have 5 neurons in the hidden layer\n",
    "output_size = 10 # we need 10 outputs for each input"
   ]
  },
  {
   "cell_type": "code",
   "execution_count": 30,
   "metadata": {},
   "outputs": [],
   "source": [
    "# each hidden neuron has one weight per input, plus a bias weight\n",
    "hidden_layer = [[random.random() for __ in range(input_size + 1)]\n",
    "                for __ in range(num_hidden)]"
   ]
  },
  {
   "cell_type": "code",
   "execution_count": 31,
   "metadata": {},
   "outputs": [],
   "source": [
    "# each output neuron has one weight per hidden neuron, plus a bias weight\n",
    "output_layer = [[random.random() for __ in range(num_hidden + 1)]\n",
    "                for __ in range(output_size)]"
   ]
  },
  {
   "cell_type": "code",
   "execution_count": 32,
   "metadata": {},
   "outputs": [],
   "source": [
    "# the network starts out with random weights\n",
    "network = [hidden_layer, output_layer]"
   ]
  },
  {
   "cell_type": "code",
   "execution_count": 33,
   "metadata": {},
   "outputs": [],
   "source": [
    "# 10,000 iterations seems enough to converge\n",
    "for __ in range(10000):\n",
    "    for input_vector, target_vector in zip(inputs, targets):\n",
    "        backpropagate(network, input_vector, target_vector)"
   ]
  },
  {
   "cell_type": "code",
   "execution_count": 34,
   "metadata": {},
   "outputs": [],
   "source": [
    "def predict(input):\n",
    "    return feed_forward(network, input)[-1]"
   ]
  },
  {
   "cell_type": "code",
   "execution_count": 35,
   "metadata": {},
   "outputs": [
    {
     "data": {
      "text/plain": [
       "[0.024099252251227495,\n",
       " 6.535805275537946e-06,\n",
       " 7.82498285497602e-11,\n",
       " 0.017301919554017466,\n",
       " 0.0011793422713514314,\n",
       " 6.648285303812686e-10,\n",
       " 4.480803518696326e-08,\n",
       " 0.969007735053818,\n",
       " 1.0889968608877994e-08,\n",
       " 2.565215480544878e-08]"
      ]
     },
     "execution_count": 35,
     "metadata": {},
     "output_type": "execute_result"
    }
   ],
   "source": [
    "# let's try numeral 7\n",
    "predict(inputs[7])"
   ]
  },
  {
   "cell_type": "code",
   "execution_count": 36,
   "metadata": {},
   "outputs": [
    {
     "data": {
      "text/plain": [
       "[8.089379748597191e-09,\n",
       " 0.0015111927756024143,\n",
       " 1.2269558364879473e-08,\n",
       " 0.9449497176995292,\n",
       " 6.320723731390414e-07,\n",
       " 4.772839810266144e-06,\n",
       " 2.566661329270676e-10,\n",
       " 0.009159247290970103,\n",
       " 6.425186805525349e-08,\n",
       " 0.1296193147755028]"
      ]
     },
     "execution_count": 36,
     "metadata": {},
     "output_type": "execute_result"
    }
   ],
   "source": [
    "# let's try stylized numeral 3\n",
    "predict(  [0,1,1,1,0,    # .@@@.\n",
    "           0,0,0,1,1,    # ...@@\n",
    "           0,0,1,1,0,    # ..@@.\n",
    "           0,0,0,1,1,    # ...@@\n",
    "           0,1,1,1,0])   # .@@@."
   ]
  },
  {
   "cell_type": "code",
   "execution_count": 55,
   "metadata": {},
   "outputs": [
    {
     "data": {
      "text/plain": [
       "[2.8398960946147525e-06,\n",
       " 3.420730717233115e-13,\n",
       " 7.377641549372272e-09,\n",
       " 0.0003464790956137235,\n",
       " 1.3653801311139735e-10,\n",
       " 0.5915126275536223,\n",
       " 2.9656227284800537e-05,\n",
       " 1.7741535556168957e-07,\n",
       " 0.9492129655894995,\n",
       " 0.9961441866705154]"
      ]
     },
     "execution_count": 55,
     "metadata": {},
     "output_type": "execute_result"
    }
   ],
   "source": [
    "# and stylized numeral 8\n",
    "predict(  [0,1,1,1,0,    # .@@@.\n",
    "           1,0,0,1,1,    # @..@@\n",
    "           0,1,1,1,0,    # .@@@.\n",
    "           1,0,0,1,1,    # @..@@\n",
    "           0,1,1,1,0])   # .@@@."
   ]
  },
  {
   "cell_type": "code",
   "execution_count": 53,
   "metadata": {},
   "outputs": [],
   "source": [
    "# now we will use pyplot.imshow function\n",
    "def show_weights(neuron_idx):\n",
    "    weights = network[0][0]\n",
    "    abs_weights = list(map(abs, weights))\n",
    "\n",
    "    grid = [abs_weights[row:(row+5)]         # turn the weights into a 5x5 grid\n",
    "            for row in range(0,25,5)]        # [weights[0:5], ..., weights[20:25]]\n",
    "\n",
    "    ax = plt.gca()                           # to use hatching, we'll need the axis\n",
    "\n",
    "    ax.imshow(grid,                          # here same as plt.imshow\n",
    "              cmap=matplotlib.cm.binary,     # use white-black color scale\n",
    "              interpolation='none')          # plot blocks as blocks\n",
    "\n",
    "    # cross-hatch the negative weights\n",
    "    for i in range(5):                       # row\n",
    "        for j in range(5):                   # column\n",
    "            if weights[5*i + j] < 0:         # row i, column j = weights[5*i + j]\n",
    "                ax.add_patch(patch(j, i, '/', \"white\"))   # add black and white hatches, so visible whether dark or light\n",
    "                ax.add_patch(patch(j, i, '\\\\', \"black\"))\n",
    "    plt.show()"
   ]
  },
  {
   "cell_type": "code",
   "execution_count": 75,
   "metadata": {},
   "outputs": [
    {
     "name": "stdout",
     "output_type": "stream",
     "text": [
      "network[0][0]\n"
     ]
    },
    {
     "data": {
      "image/png": "[encoded data removed]",
      "text/plain": [
       "<Figure size 432x288 with 1 Axes>"
      ]
     },
     "metadata": {
      "needs_background": "light"
     },
     "output_type": "display_data"
    }
   ],
   "source": [
    "print('network[0][0]')\n",
    "show_weights(0)"
   ]
  },
  {
   "cell_type": "code",
   "execution_count": 76,
   "metadata": {},
   "outputs": [
    {
     "name": "stdout",
     "output_type": "stream",
     "text": [
      "network[0][1]\n"
     ]
    },
    {
     "data": {
      "image/png": "[encoded data removed]",
      "text/plain": [
       "<Figure size 432x288 with 1 Axes>"
      ]
     },
     "metadata": {
      "needs_background": "light"
     },
     "output_type": "display_data"
    }
   ],
   "source": [
    "print('network[0][1]')\n",
    "show_weights(1)"
   ]
  },
  {
   "cell_type": "code",
   "execution_count": 77,
   "metadata": {},
   "outputs": [
    {
     "name": "stdout",
     "output_type": "stream",
     "text": [
      "network[0][2]\n"
     ]
    },
    {
     "data": {
      "image/png": "[encoded data removed]",
      "text/plain": [
       "<Figure size 432x288 with 1 Axes>"
      ]
     },
     "metadata": {
      "needs_background": "light"
     },
     "output_type": "display_data"
    }
   ],
   "source": [
    "print('network[0][2]')\n",
    "show_weights(2)"
   ]
  },
  {
   "cell_type": "code",
   "execution_count": 78,
   "metadata": {},
   "outputs": [
    {
     "name": "stdout",
     "output_type": "stream",
     "text": [
      "network[0][3]\n"
     ]
    },
    {
     "data": {
      "image/png": "[encoded data removed]",
      "text/plain": [
       "<Figure size 432x288 with 1 Axes>"
      ]
     },
     "metadata": {
      "needs_background": "light"
     },
     "output_type": "display_data"
    }
   ],
   "source": [
    "print('network[0][3]')\n",
    "show_weights(3)"
   ]
  },
  {
   "cell_type": "code",
   "execution_count": 79,
   "metadata": {},
   "outputs": [
    {
     "name": "stdout",
     "output_type": "stream",
     "text": [
      "network[0][4]\n"
     ]
    },
    {
     "data": {
      "image/png": "[encoded data removed]",
      "text/plain": [
       "<Figure size 432x288 with 1 Axes>"
      ]
     },
     "metadata": {
      "needs_background": "light"
     },
     "output_type": "display_data"
    }
   ],
   "source": [
    "print('network[0][4]')\n",
    "show_weights(4)"
   ]
  },
  {
   "cell_type": "code",
   "execution_count": 80,
   "metadata": {},
   "outputs": [
    {
     "name": "stdout",
     "output_type": "stream",
     "text": [
      "0.9999757061230374\n"
     ]
    }
   ],
   "source": [
    "# left column only\n",
    "left_column_only = [1, 0, 0, 0, 0] * 5\n",
    "print(feed_forward(network, left_column_only) [0][0])"
   ]
  },
  {
   "cell_type": "code",
   "execution_count": 81,
   "metadata": {},
   "outputs": [
    {
     "name": "stdout",
     "output_type": "stream",
     "text": [
      "0.9454650524875013\n"
     ]
    }
   ],
   "source": [
    "# center, middle line\n",
    "center_middle_line = [0, 0, 0, 0, 0] * 2 + [0, 1, 1, 1, 0] + [0, 0, 0, 0, 0] * 2\n",
    "print(feed_forward(network, center_middle_line) [0][0])"
   ]
  },
  {
   "cell_type": "code",
   "execution_count": 85,
   "metadata": {},
   "outputs": [
    {
     "name": "stdout",
     "output_type": "stream",
     "text": [
      "2.0967428729819267e-09\n"
     ]
    }
   ],
   "source": [
    "# right column only\n",
    "right_column_only = [0, 0, 0, 0, 1] * 5\n",
    "print(feed_forward(network, right_column_only) [0][0])"
   ]
  },
  {
   "cell_type": "code",
   "execution_count": 86,
   "metadata": {},
   "outputs": [],
   "source": [
    "my_three = [0,1,1,1,0,    # .@@@.\n",
    "            0,0,0,1,1,    # ...@@\n",
    "            0,0,1,1,0,    # ..@@.\n",
    "            0,0,0,1,1,    # ...@@\n",
    "            0,1,1,1,0]    # .@@@."
   ]
  },
  {
   "cell_type": "code",
   "execution_count": 89,
   "metadata": {},
   "outputs": [],
   "source": [
    "hidden, ouput = feed_forward(network, my_three)"
   ]
  },
  {
   "cell_type": "code",
   "execution_count": 91,
   "metadata": {},
   "outputs": [
    {
     "data": {
      "text/plain": [
       "[0.10087970544675262,\n",
       " 0.9999789525258017,\n",
       " 0.9999999995375104,\n",
       " 0.999992327786406,\n",
       " 2.5371920979367814e-07]"
      ]
     },
     "execution_count": 91,
     "metadata": {},
     "output_type": "execute_result"
    }
   ],
   "source": [
    "hidden  # network[0][0]\n",
    "        # network[0][1]\n",
    "        # network[0][2]\n",
    "        # network[0][3]\n",
    "        # network[0][4]"
   ]
  },
  {
   "cell_type": "code",
   "execution_count": null,
   "metadata": {},
   "outputs": [],
   "source": []
  }
 ],
 "metadata": {
  "kernelspec": {
   "display_name": "Python 3",
   "language": "python",
   "name": "python3"
  },
  "language_info": {
   "codemirror_mode": {
    "name": "ipython",
    "version": 3
   },
   "file_extension": ".py",
   "mimetype": "text/x-python",
   "name": "python",
   "nbconvert_exporter": "python",
   "pygments_lexer": "ipython3",
   "version": "3.7.6"
  }
 },
 "nbformat": 4,
 "nbformat_minor": 4
}
