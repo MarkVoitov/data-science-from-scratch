{
 "cells": [
  {
   "cell_type": "code",
   "execution_count": 1,
   "metadata": {},
   "outputs": [],
   "source": [
    "import math, random, re\n",
    "from collections import defaultdict"
   ]
  },
  {
   "cell_type": "code",
   "execution_count": 2,
   "metadata": {},
   "outputs": [],
   "source": [
    "class Table:\n",
    "    def __init__(self, columns):\n",
    "        self.columns = columns\n",
    "        self.rows = []\n",
    "\n",
    "    def __repr__(self):\n",
    "        \"\"\"pretty representation of the table: columns then rows\"\"\"\n",
    "        return str(self.columns) + \"\\n\" + \"\\n\".join(map(str, self.rows))\n",
    "\n",
    "    def insert(self, row_values):\n",
    "        if len(row_values) != len(self.columns):\n",
    "            raise TypeError(\"wrong number of elements\")\n",
    "        row_dict = dict(zip(self.columns, row_values))\n",
    "        self.rows.append(row_dict)\n",
    "\n",
    "    def update(self, updates, predicate):\n",
    "        for row in self.rows:\n",
    "            if predicate(row):\n",
    "                for column, new_value in updates.items():\n",
    "                    row[column] = new_value\n",
    "\n",
    "    def delete(self, predicate=lambda row: True):\n",
    "        \"\"\"delete all rows matching predicate\n",
    "        or all rows if no predicate supplied\"\"\"\n",
    "        self.rows = [row for row in self.rows if not(predicate(row))]\n",
    "\n",
    "    def select(self, keep_columns=None, additional_columns=None):\n",
    "\n",
    "        if keep_columns is None:         # if no columns specified,\n",
    "            keep_columns = self.columns  # return all columns\n",
    "\n",
    "        if additional_columns is None:\n",
    "            additional_columns = {}\n",
    "\n",
    "        # new table for results\n",
    "        result_table = Table(keep_columns + list(additional_columns.keys()))\n",
    "\n",
    "        for row in self.rows:\n",
    "            new_row = [row[column] for column in keep_columns]\n",
    "            for column_name, calculation in additional_columns.items():\n",
    "                new_row.append(calculation(row))\n",
    "            result_table.insert(new_row)\n",
    "\n",
    "        return result_table\n",
    "\n",
    "    def where(self, predicate=lambda row: True):\n",
    "        \"\"\"return only the rows that satisfy the supplied predicate\"\"\"\n",
    "        where_table = Table(self.columns)\n",
    "        where_table.rows = list(filter(predicate, self.rows))\n",
    "        return where_table\n",
    "\n",
    "    def limit(self, num_rows=None):\n",
    "        \"\"\"return only the first num_rows rows\"\"\"\n",
    "        limit_table = Table(self.columns)\n",
    "        limit_table.rows = (self.rows[:num_rows]\n",
    "                            if num_rows is not None\n",
    "                            else self.rows)\n",
    "        return limit_table\n",
    "\n",
    "    def group_by(self, group_by_columns, aggregates, having=None):\n",
    "\n",
    "        grouped_rows = defaultdict(list)\n",
    "\n",
    "        # populate groups\n",
    "        for row in self.rows:\n",
    "            key = tuple(row[column] for column in group_by_columns)\n",
    "            grouped_rows[key].append(row)\n",
    "\n",
    "        result_table = Table(group_by_columns + list(aggregates.keys()))\n",
    "\n",
    "        for key, rows in grouped_rows.items():\n",
    "            if having is None or having(rows):\n",
    "                new_row = list(key)\n",
    "                for aggregate_name, aggregate_fn in aggregates.items():\n",
    "                    new_row.append(aggregate_fn(rows))\n",
    "                result_table.insert(new_row)\n",
    "\n",
    "        return result_table\n",
    "\n",
    "    def order_by(self, order):\n",
    "        new_table = self.select()       # make a copy\n",
    "        new_table.rows.sort(key=order)\n",
    "        return new_table\n",
    "\n",
    "    def join(self, other_table, left_join=False):\n",
    "\n",
    "        join_on_columns = [c for c in self.columns           # columns in\n",
    "                           if c in other_table.columns]      # both tables\n",
    "\n",
    "        additional_columns = [c for c in other_table.columns # columns only\n",
    "                              if c not in join_on_columns]   # in right table\n",
    "\n",
    "        # all columns from left table + additional_columns from right table\n",
    "        join_table = Table(self.columns + additional_columns)\n",
    "\n",
    "        for row in self.rows:\n",
    "            def is_join(other_row):\n",
    "                return all(other_row[c] == row[c] for c in join_on_columns)\n",
    "\n",
    "            other_rows = other_table.where(is_join).rows\n",
    "\n",
    "            # each other row that matches this one produces a result row\n",
    "            for other_row in other_rows:\n",
    "                join_table.insert([row[c] for c in self.columns] +\n",
    "                                  [other_row[c] for c in additional_columns])\n",
    "\n",
    "            # if no rows match and it's a left join, output with Nones\n",
    "            if left_join and not other_rows:\n",
    "                join_table.insert([row[c] for c in self.columns] +\n",
    "                                  [None for c in additional_columns])\n",
    "\n",
    "        return join_table"
   ]
  },
  {
   "cell_type": "markdown",
   "metadata": {},
   "source": [
    "# CREATE TABLE and INSERT"
   ]
  },
  {
   "cell_type": "code",
   "execution_count": 3,
   "metadata": {},
   "outputs": [],
   "source": [
    "users = Table([\"user_id\", \"name\", \"num_friends\"])\n",
    "users.insert([0, \"Hero\", 0])\n",
    "users.insert([1, \"Dunn\", 2])\n",
    "users.insert([2, \"Sue\", 3])\n",
    "users.insert([3, \"Chi\", 3])\n",
    "users.insert([4, \"Thor\", 3])\n",
    "users.insert([5, \"Clive\", 2])\n",
    "users.insert([6, \"Hicks\", 3])\n",
    "users.insert([7, \"Devin\", 2])\n",
    "users.insert([8, \"Kate\", 2])\n",
    "users.insert([9, \"Klein\", 3])\n",
    "users.insert([10, \"Jen\", 1])"
   ]
  },
  {
   "cell_type": "code",
   "execution_count": 4,
   "metadata": {},
   "outputs": [
    {
     "data": {
      "text/plain": [
       "['user_id', 'name', 'num_friends']\n",
       "{'user_id': 0, 'name': 'Hero', 'num_friends': 0}\n",
       "{'user_id': 1, 'name': 'Dunn', 'num_friends': 2}\n",
       "{'user_id': 2, 'name': 'Sue', 'num_friends': 3}\n",
       "{'user_id': 3, 'name': 'Chi', 'num_friends': 3}\n",
       "{'user_id': 4, 'name': 'Thor', 'num_friends': 3}\n",
       "{'user_id': 5, 'name': 'Clive', 'num_friends': 2}\n",
       "{'user_id': 6, 'name': 'Hicks', 'num_friends': 3}\n",
       "{'user_id': 7, 'name': 'Devin', 'num_friends': 2}\n",
       "{'user_id': 8, 'name': 'Kate', 'num_friends': 2}\n",
       "{'user_id': 9, 'name': 'Klein', 'num_friends': 3}\n",
       "{'user_id': 10, 'name': 'Jen', 'num_friends': 1}"
      ]
     },
     "execution_count": 4,
     "metadata": {},
     "output_type": "execute_result"
    }
   ],
   "source": [
    "users"
   ]
  },
  {
   "cell_type": "markdown",
   "metadata": {},
   "source": [
    "# UPDATE"
   ]
  },
  {
   "cell_type": "code",
   "execution_count": 5,
   "metadata": {},
   "outputs": [],
   "source": [
    "users.update({'num_friends' : 3},\n",
    "            lambda row: row['user_id'] == 1)"
   ]
  },
  {
   "cell_type": "code",
   "execution_count": 6,
   "metadata": {},
   "outputs": [
    {
     "data": {
      "text/plain": [
       "['user_id', 'name', 'num_friends']\n",
       "{'user_id': 0, 'name': 'Hero', 'num_friends': 0}\n",
       "{'user_id': 1, 'name': 'Dunn', 'num_friends': 3}\n",
       "{'user_id': 2, 'name': 'Sue', 'num_friends': 3}\n",
       "{'user_id': 3, 'name': 'Chi', 'num_friends': 3}\n",
       "{'user_id': 4, 'name': 'Thor', 'num_friends': 3}\n",
       "{'user_id': 5, 'name': 'Clive', 'num_friends': 2}\n",
       "{'user_id': 6, 'name': 'Hicks', 'num_friends': 3}\n",
       "{'user_id': 7, 'name': 'Devin', 'num_friends': 2}\n",
       "{'user_id': 8, 'name': 'Kate', 'num_friends': 2}\n",
       "{'user_id': 9, 'name': 'Klein', 'num_friends': 3}\n",
       "{'user_id': 10, 'name': 'Jen', 'num_friends': 1}"
      ]
     },
     "execution_count": 6,
     "metadata": {},
     "output_type": "execute_result"
    }
   ],
   "source": [
    "users"
   ]
  },
  {
   "cell_type": "markdown",
   "metadata": {},
   "source": [
    "# DELETE"
   ]
  },
  {
   "cell_type": "code",
   "execution_count": 7,
   "metadata": {},
   "outputs": [],
   "source": [
    "users.delete(lambda row: row['user_id'] == 1)"
   ]
  },
  {
   "cell_type": "code",
   "execution_count": 8,
   "metadata": {},
   "outputs": [
    {
     "data": {
      "text/plain": [
       "['user_id', 'name', 'num_friends']\n",
       "{'user_id': 0, 'name': 'Hero', 'num_friends': 0}\n",
       "{'user_id': 2, 'name': 'Sue', 'num_friends': 3}\n",
       "{'user_id': 3, 'name': 'Chi', 'num_friends': 3}\n",
       "{'user_id': 4, 'name': 'Thor', 'num_friends': 3}\n",
       "{'user_id': 5, 'name': 'Clive', 'num_friends': 2}\n",
       "{'user_id': 6, 'name': 'Hicks', 'num_friends': 3}\n",
       "{'user_id': 7, 'name': 'Devin', 'num_friends': 2}\n",
       "{'user_id': 8, 'name': 'Kate', 'num_friends': 2}\n",
       "{'user_id': 9, 'name': 'Klein', 'num_friends': 3}\n",
       "{'user_id': 10, 'name': 'Jen', 'num_friends': 1}"
      ]
     },
     "execution_count": 8,
     "metadata": {},
     "output_type": "execute_result"
    }
   ],
   "source": [
    "users"
   ]
  },
  {
   "cell_type": "markdown",
   "metadata": {},
   "source": [
    "# SELECT"
   ]
  },
  {
   "cell_type": "code",
   "execution_count": 9,
   "metadata": {},
   "outputs": [
    {
     "data": {
      "text/plain": [
       "['user_id', 'name', 'num_friends']\n",
       "{'user_id': 0, 'name': 'Hero', 'num_friends': 0}\n",
       "{'user_id': 2, 'name': 'Sue', 'num_friends': 3}\n",
       "{'user_id': 3, 'name': 'Chi', 'num_friends': 3}\n",
       "{'user_id': 4, 'name': 'Thor', 'num_friends': 3}\n",
       "{'user_id': 5, 'name': 'Clive', 'num_friends': 2}\n",
       "{'user_id': 6, 'name': 'Hicks', 'num_friends': 3}\n",
       "{'user_id': 7, 'name': 'Devin', 'num_friends': 2}\n",
       "{'user_id': 8, 'name': 'Kate', 'num_friends': 2}\n",
       "{'user_id': 9, 'name': 'Klein', 'num_friends': 3}\n",
       "{'user_id': 10, 'name': 'Jen', 'num_friends': 1}"
      ]
     },
     "execution_count": 9,
     "metadata": {},
     "output_type": "execute_result"
    }
   ],
   "source": [
    "# SELECT * FROM users;\n",
    "users.select()"
   ]
  },
  {
   "cell_type": "code",
   "execution_count": 10,
   "metadata": {},
   "outputs": [
    {
     "data": {
      "text/plain": [
       "['user_id', 'name', 'num_friends']\n",
       "{'user_id': 0, 'name': 'Hero', 'num_friends': 0}\n",
       "{'user_id': 2, 'name': 'Sue', 'num_friends': 3}"
      ]
     },
     "execution_count": 10,
     "metadata": {},
     "output_type": "execute_result"
    }
   ],
   "source": [
    "# SELECT * FROM users LIMIT 2;\n",
    "users.limit(2)"
   ]
  },
  {
   "cell_type": "code",
   "execution_count": 11,
   "metadata": {},
   "outputs": [
    {
     "data": {
      "text/plain": [
       "['user_id']\n",
       "{'user_id': 0}\n",
       "{'user_id': 2}\n",
       "{'user_id': 3}\n",
       "{'user_id': 4}\n",
       "{'user_id': 5}\n",
       "{'user_id': 6}\n",
       "{'user_id': 7}\n",
       "{'user_id': 8}\n",
       "{'user_id': 9}\n",
       "{'user_id': 10}"
      ]
     },
     "execution_count": 11,
     "metadata": {},
     "output_type": "execute_result"
    }
   ],
   "source": [
    "# SELECT user_id FROM users;\n",
    "users.select(keep_columns = ['user_id'])"
   ]
  },
  {
   "cell_type": "code",
   "execution_count": 12,
   "metadata": {},
   "outputs": [
    {
     "data": {
      "text/plain": [
       "['user_id']"
      ]
     },
     "execution_count": 12,
     "metadata": {},
     "output_type": "execute_result"
    }
   ],
   "source": [
    "# SELECT user_id FROM users WHERE name = 'Klein';\n",
    "users.where(lambda row: row['name'] == 'Dunn').select(keep_columns = ['user_id'])"
   ]
  },
  {
   "cell_type": "code",
   "execution_count": 13,
   "metadata": {},
   "outputs": [
    {
     "data": {
      "text/plain": [
       "['name_length']\n",
       "{'name_length': 4}\n",
       "{'name_length': 3}\n",
       "{'name_length': 3}\n",
       "{'name_length': 4}\n",
       "{'name_length': 5}\n",
       "{'name_length': 5}\n",
       "{'name_length': 5}\n",
       "{'name_length': 4}\n",
       "{'name_length': 5}\n",
       "{'name_length': 3}"
      ]
     },
     "execution_count": 13,
     "metadata": {},
     "output_type": "execute_result"
    }
   ],
   "source": [
    "# SELECT LENGTH(name) AS name_length FROM users;\n",
    "def name_length(row): return len(row['name'])\n",
    "\n",
    "\n",
    "users.select(keep_columns=[], additional_columns = {'name_length': name_length})"
   ]
  },
  {
   "cell_type": "markdown",
   "metadata": {},
   "source": [
    "# GROUP BY"
   ]
  },
  {
   "cell_type": "code",
   "execution_count": 14,
   "metadata": {},
   "outputs": [],
   "source": [
    "def min_user_id(rows): return min(row['user_id'] for row in rows)"
   ]
  },
  {
   "cell_type": "code",
   "execution_count": 15,
   "metadata": {},
   "outputs": [],
   "source": [
    "stats_by_length = users \\\n",
    "        .select(additional_columns={'name_length' : name_length}) \\\n",
    "        .group_by(group_by_columns=['name_length'],\n",
    "                  aggregates={ 'min_user_id' : min_user_id,\n",
    "                               'num_users' : len })"
   ]
  },
  {
   "cell_type": "code",
   "execution_count": 16,
   "metadata": {},
   "outputs": [
    {
     "data": {
      "text/plain": [
       "['name_length', 'min_user_id', 'num_users']\n",
       "{'name_length': 4, 'min_user_id': 0, 'num_users': 3}\n",
       "{'name_length': 3, 'min_user_id': 2, 'num_users': 3}\n",
       "{'name_length': 5, 'min_user_id': 5, 'num_users': 4}"
      ]
     },
     "execution_count": 16,
     "metadata": {},
     "output_type": "execute_result"
    }
   ],
   "source": [
    "stats_by_length"
   ]
  },
  {
   "cell_type": "code",
   "execution_count": 17,
   "metadata": {},
   "outputs": [],
   "source": [
    "def first_letter_of_name(row):\n",
    "    return row['name'][0] if row['name'] else ''\n",
    "\n",
    "\n",
    "def average_num_friends(rows):\n",
    "    return sum(row['num_friends'] for row in rows) / len(rows)\n",
    "\n",
    "\n",
    "def enough_friends(rows):\n",
    "    return average_num_friends(rows) > 1"
   ]
  },
  {
   "cell_type": "code",
   "execution_count": 18,
   "metadata": {},
   "outputs": [],
   "source": [
    "avg_friends_by_letter = users \\\n",
    "        .select(additional_columns={'first_letter' : first_letter_of_name}) \\\n",
    "        .group_by(group_by_columns=['first_letter'],\n",
    "                  aggregates={ 'avg_num_friends' : average_num_friends },\n",
    "                  having=enough_friends)"
   ]
  },
  {
   "cell_type": "code",
   "execution_count": 19,
   "metadata": {},
   "outputs": [
    {
     "data": {
      "text/plain": [
       "['first_letter', 'avg_num_friends']\n",
       "{'first_letter': 'H', 'avg_num_friends': 1.5}\n",
       "{'first_letter': 'S', 'avg_num_friends': 3.0}\n",
       "{'first_letter': 'C', 'avg_num_friends': 2.5}\n",
       "{'first_letter': 'T', 'avg_num_friends': 3.0}\n",
       "{'first_letter': 'D', 'avg_num_friends': 2.0}\n",
       "{'first_letter': 'K', 'avg_num_friends': 2.5}"
      ]
     },
     "execution_count": 19,
     "metadata": {},
     "output_type": "execute_result"
    }
   ],
   "source": [
    "avg_friends_by_letter"
   ]
  },
  {
   "cell_type": "code",
   "execution_count": 20,
   "metadata": {},
   "outputs": [],
   "source": [
    "def sum_user_ids(rows): return sum(row['user_id'] for row in rows)"
   ]
  },
  {
   "cell_type": "code",
   "execution_count": 21,
   "metadata": {},
   "outputs": [],
   "source": [
    "user_id_sum = users \\\n",
    "        .where(lambda row: row['user_id'] > 1) \\\n",
    "        .group_by(group_by_columns=[],\n",
    "                  aggregates={ 'user_id_sum' : sum_user_ids })"
   ]
  },
  {
   "cell_type": "code",
   "execution_count": 22,
   "metadata": {},
   "outputs": [
    {
     "data": {
      "text/plain": [
       "['user_id_sum']\n",
       "{'user_id_sum': 54}"
      ]
     },
     "execution_count": 22,
     "metadata": {},
     "output_type": "execute_result"
    }
   ],
   "source": [
    "user_id_sum"
   ]
  },
  {
   "cell_type": "markdown",
   "metadata": {},
   "source": [
    "# ORDER BY"
   ]
  },
  {
   "cell_type": "code",
   "execution_count": 23,
   "metadata": {},
   "outputs": [],
   "source": [
    "friendliest_letters = avg_friends_by_letter.order_by(lambda row: -row['avg_num_friends']).limit(4)"
   ]
  },
  {
   "cell_type": "code",
   "execution_count": 24,
   "metadata": {},
   "outputs": [
    {
     "data": {
      "text/plain": [
       "['first_letter', 'avg_num_friends']\n",
       "{'first_letter': 'S', 'avg_num_friends': 3.0}\n",
       "{'first_letter': 'T', 'avg_num_friends': 3.0}\n",
       "{'first_letter': 'C', 'avg_num_friends': 2.5}\n",
       "{'first_letter': 'K', 'avg_num_friends': 2.5}"
      ]
     },
     "execution_count": 24,
     "metadata": {},
     "output_type": "execute_result"
    }
   ],
   "source": [
    "friendliest_letters"
   ]
  },
  {
   "cell_type": "markdown",
   "metadata": {},
   "source": [
    "# JOIN"
   ]
  },
  {
   "cell_type": "code",
   "execution_count": 25,
   "metadata": {},
   "outputs": [],
   "source": [
    "user_interests = Table(['user_id', 'interest'])\n",
    "user_interests.insert([0, 'SQL'])\n",
    "user_interests.insert([0, 'NoSQL'])\n",
    "user_interests.insert([2, 'SQL'])\n",
    "user_interests.insert([2, 'MySQL'])"
   ]
  },
  {
   "cell_type": "code",
   "execution_count": 26,
   "metadata": {},
   "outputs": [
    {
     "data": {
      "text/plain": [
       "['user_id', 'interest']\n",
       "{'user_id': 0, 'interest': 'SQL'}\n",
       "{'user_id': 0, 'interest': 'NoSQL'}\n",
       "{'user_id': 2, 'interest': 'SQL'}\n",
       "{'user_id': 2, 'interest': 'MySQL'}"
      ]
     },
     "execution_count": 26,
     "metadata": {},
     "output_type": "execute_result"
    }
   ],
   "source": [
    "user_interests"
   ]
  },
  {
   "cell_type": "code",
   "execution_count": 28,
   "metadata": {},
   "outputs": [],
   "source": [
    "sql_users = users.join(user_interests).where(lambda row: row['interest'] == 'SQL').select(keep_columns=['name'])"
   ]
  },
  {
   "cell_type": "code",
   "execution_count": 30,
   "metadata": {},
   "outputs": [
    {
     "data": {
      "text/plain": [
       "['name']\n",
       "{'name': 'Hero'}\n",
       "{'name': 'Sue'}"
      ]
     },
     "execution_count": 30,
     "metadata": {},
     "output_type": "execute_result"
    }
   ],
   "source": [
    "sql_users"
   ]
  },
  {
   "cell_type": "code",
   "execution_count": 31,
   "metadata": {},
   "outputs": [],
   "source": [
    "def count_interests(rows):\n",
    "    \"\"\"counts how many rows have non-None interests\"\"\"\n",
    "    return len([row for row in rows if row['interest'] is not None])"
   ]
  },
  {
   "cell_type": "code",
   "execution_count": 32,
   "metadata": {},
   "outputs": [],
   "source": [
    "user_interest_counts = users \\\n",
    "    .join(user_interests, left_join=True) \\\n",
    "    .group_by(group_by_columns=['user_id'],\n",
    "              aggregates={'num_interests' : count_interests })"
   ]
  },
  {
   "cell_type": "code",
   "execution_count": 33,
   "metadata": {},
   "outputs": [
    {
     "data": {
      "text/plain": [
       "['user_id', 'num_interests']\n",
       "{'user_id': 0, 'num_interests': 2}\n",
       "{'user_id': 2, 'num_interests': 2}\n",
       "{'user_id': 3, 'num_interests': 0}\n",
       "{'user_id': 4, 'num_interests': 0}\n",
       "{'user_id': 5, 'num_interests': 0}\n",
       "{'user_id': 6, 'num_interests': 0}\n",
       "{'user_id': 7, 'num_interests': 0}\n",
       "{'user_id': 8, 'num_interests': 0}\n",
       "{'user_id': 9, 'num_interests': 0}\n",
       "{'user_id': 10, 'num_interests': 0}"
      ]
     },
     "execution_count": 33,
     "metadata": {},
     "output_type": "execute_result"
    }
   ],
   "source": [
    "user_interest_counts"
   ]
  },
  {
   "cell_type": "markdown",
   "metadata": {},
   "source": [
    "# SUBQUERIES"
   ]
  },
  {
   "cell_type": "code",
   "execution_count": 34,
   "metadata": {},
   "outputs": [],
   "source": [
    "likes_sql_user_ids = user_interests \\\n",
    "    .where(lambda row: row['interest'] == 'SQL') \\\n",
    "    .select(keep_columns=['user_id'])"
   ]
  },
  {
   "cell_type": "code",
   "execution_count": 35,
   "metadata": {},
   "outputs": [
    {
     "data": {
      "text/plain": [
       "['min_user_id']\n",
       "{'min_user_id': 0}"
      ]
     },
     "execution_count": 35,
     "metadata": {},
     "output_type": "execute_result"
    }
   ],
   "source": [
    "likes_sql_user_ids.group_by(group_by_columns=[],\n",
    "                            aggregates={ 'min_user_id' : min_user_id })"
   ]
  },
  {
   "cell_type": "code",
   "execution_count": 36,
   "metadata": {},
   "outputs": [
    {
     "data": {
      "text/plain": [
       "['user_id']\n",
       "{'user_id': 0}\n",
       "{'user_id': 2}"
      ]
     },
     "execution_count": 36,
     "metadata": {},
     "output_type": "execute_result"
    }
   ],
   "source": [
    "likes_sql_user_ids"
   ]
  },
  {
   "cell_type": "markdown",
   "metadata": {},
   "source": [
    "# Queries optimization"
   ]
  },
  {
   "cell_type": "code",
   "execution_count": 38,
   "metadata": {},
   "outputs": [
    {
     "data": {
      "text/plain": [
       "['name']\n",
       "{'name': 'Hero'}\n",
       "{'name': 'Sue'}"
      ]
     },
     "execution_count": 38,
     "metadata": {},
     "output_type": "execute_result"
    }
   ],
   "source": [
    " user_interests.where(lambda row: row['interest'] == 'SQL').join(users).select(['name'])"
   ]
  },
  {
   "cell_type": "code",
   "execution_count": 39,
   "metadata": {},
   "outputs": [
    {
     "data": {
      "text/plain": [
       "['name']\n",
       "{'name': 'Hero'}\n",
       "{'name': 'Sue'}"
      ]
     },
     "execution_count": 39,
     "metadata": {},
     "output_type": "execute_result"
    }
   ],
   "source": [
    " user_interests.join(users).where(lambda row: row['interest'] == 'SQL').select(['name'])"
   ]
  },
  {
   "cell_type": "code",
   "execution_count": null,
   "metadata": {},
   "outputs": [],
   "source": []
  }
 ],
 "metadata": {
  "kernelspec": {
   "display_name": "Python 3",
   "language": "python",
   "name": "python3"
  },
  "language_info": {
   "codemirror_mode": {
    "name": "ipython",
    "version": 3
   },
   "file_extension": ".py",
   "mimetype": "text/x-python",
   "name": "python",
   "nbconvert_exporter": "python",
   "pygments_lexer": "ipython3",
   "version": "3.7.6"
  }
 },
 "nbformat": 4,
 "nbformat_minor": 4
}
