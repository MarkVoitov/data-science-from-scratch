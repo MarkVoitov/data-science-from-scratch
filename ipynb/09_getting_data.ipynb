{
 "cells": [
  {
   "cell_type": "markdown",
   "metadata": {},
   "source": [
    "# Reading files"
   ]
  },
  {
   "cell_type": "markdown",
   "metadata": {},
   "source": [
    "## Work with text files"
   ]
  },
  {
   "cell_type": "code",
   "execution_count": 1,
   "metadata": {},
   "outputs": [],
   "source": [
    "# 'r' - read-only files\n",
    "file_for_reading = open('test_text_file.txt', 'r')\n",
    "\n",
    "# 'w' writes into file - it will erase the file if it already exists\n",
    "file_for_writing = open('writing_file.txt', 'w')\n",
    "\n",
    "# a - for appending to the end of the file\n",
    "file_for_appending = open('appending_file.txt', 'a')\n",
    "\n",
    "# don't forget to close the file at the end of the work\n",
    "file_for_writing.close()"
   ]
  },
  {
   "cell_type": "code",
   "execution_count": 2,
   "metadata": {},
   "outputs": [],
   "source": [
    "# Just stick some data there\n",
    "with open('email_addresses.txt', 'w') as f:\n",
    "    f.write(\"joelgrus@gmail.com\\n\")\n",
    "    f.write(\"joel@m.datasciencester.com\\n\")\n",
    "    f.write(\"joelgrus@m.datasciencester.com\\n\")\n",
    "\n",
    "def get_domain(email_address):\n",
    "    # split on '@' and return the last piece\n",
    "    return email_address.lower().split(\"@\")[-1]"
   ]
  },
  {
   "cell_type": "code",
   "execution_count": 3,
   "metadata": {},
   "outputs": [
    {
     "data": {
      "text/plain": [
       "'gmail.com'"
      ]
     },
     "execution_count": 3,
     "metadata": {},
     "output_type": "execute_result"
    }
   ],
   "source": [
    "get_domain('joelgrus@gmail.com')"
   ]
  },
  {
   "cell_type": "code",
   "execution_count": 4,
   "metadata": {},
   "outputs": [
    {
     "data": {
      "text/plain": [
       "'datasciencester.com'"
      ]
     },
     "execution_count": 4,
     "metadata": {},
     "output_type": "execute_result"
    }
   ],
   "source": [
    "get_domain('joel@datasciencester.com')"
   ]
  },
  {
   "cell_type": "markdown",
   "metadata": {},
   "source": [
    "## Files with separators"
   ]
  },
  {
   "cell_type": "code",
   "execution_count": 5,
   "metadata": {},
   "outputs": [],
   "source": [
    "def process(date, symbol, closing_price):\n",
    "    # Imaginge that this function actually does something.\n",
    "    assert closing_price > 0.0"
   ]
  },
  {
   "cell_type": "code",
   "execution_count": 6,
   "metadata": {},
   "outputs": [],
   "source": [
    "import csv\n",
    "\n",
    "with open('tab_delimited_stock_prices.txt', 'w') as f:\n",
    "    f.write(\"\"\"6/20/2014\\tAAPL\\t90.91\n",
    "6/20/2014\\tMSFT\\t41.68\n",
    "6/20/2014\\tFB\\t64.5\n",
    "6/19/2014\\tAAPL\\t91.86\n",
    "6/19/2014\\tMSFT\\t41.51\n",
    "6/19/2014\\tFB\\t64.34\n",
    "\"\"\")"
   ]
  },
  {
   "cell_type": "code",
   "execution_count": 7,
   "metadata": {},
   "outputs": [],
   "source": [
    "with open('tab_delimited_stock_prices.txt') as f:\n",
    "    reader = csv.reader(f, delimiter='\\t')\n",
    "    for row in reader:\n",
    "        date = row[0]\n",
    "        symbol = row[1]\n",
    "        closing_price = float(row[2])\n",
    "        process(date, symbol, closing_price)"
   ]
  },
  {
   "cell_type": "code",
   "execution_count": 8,
   "metadata": {},
   "outputs": [],
   "source": [
    "with open('colon_delimited_stock_prices.txt', 'w') as f:\n",
    "    f.write(\"\"\"date:symbol:closing_price\n",
    "6/20/2014:AAPL:90.91\n",
    "6/20/2014:MSFT:41.68\n",
    "6/20/2014:FB:64.5\n",
    "\"\"\")"
   ]
  },
  {
   "cell_type": "code",
   "execution_count": 9,
   "metadata": {},
   "outputs": [],
   "source": [
    "with open('colon_delimited_stock_prices.txt') as f:\n",
    "    colon_reader = csv.DictReader(f, delimiter=':')\n",
    "    for dict_row in colon_reader:\n",
    "        date = dict_row[\"date\"]\n",
    "        symbol = dict_row[\"symbol\"]\n",
    "        closing_price = float(dict_row[\"closing_price\"])\n",
    "        process(date, symbol, closing_price)"
   ]
  },
  {
   "cell_type": "code",
   "execution_count": 10,
   "metadata": {},
   "outputs": [],
   "source": [
    "todays_prices = {'AAPL': 90.91, 'MSFT': 41.68, 'FB': 64.5 }"
   ]
  },
  {
   "cell_type": "code",
   "execution_count": 11,
   "metadata": {},
   "outputs": [],
   "source": [
    "with open('comma_delimited_stock_prices.txt', 'w') as f:\n",
    "    csv_writer = csv.writer(f, delimiter=',')\n",
    "    for stock, price in todays_prices.items():\n",
    "        csv_writer.writerow([stock, price])"
   ]
  },
  {
   "cell_type": "code",
   "execution_count": 12,
   "metadata": {},
   "outputs": [],
   "source": [
    "results = [[\"test1\", \"success\", \"Monday\"],\n",
    "           [\"test2\", \"success, kind of\", \"Tuesday\"],\n",
    "           [\"test3\", \"failure, kind of\", \"Wednesday\"],\n",
    "           [\"test4\", \"failure, utter\", \"Thursday\"]]"
   ]
  },
  {
   "cell_type": "code",
   "execution_count": 13,
   "metadata": {},
   "outputs": [],
   "source": [
    "# don't do this!\n",
    "with open('bad_csv.txt', 'w') as f:\n",
    "    for row in results:\n",
    "        f.write(\",\".join(map(str, row))) # might have too many commas in it!\n",
    "        f.write(\"\\n\")                    # row might have newlines as well!"
   ]
  },
  {
   "cell_type": "markdown",
   "metadata": {},
   "source": [
    "# Web-scraping"
   ]
  },
  {
   "cell_type": "markdown",
   "metadata": {},
   "source": [
    "## HTML code analysis"
   ]
  },
  {
   "cell_type": "code",
   "execution_count": 14,
   "metadata": {},
   "outputs": [],
   "source": [
    "from bs4 import BeautifulSoup\n",
    "import requests\n",
    "html = requests.get('http://www.example.com').text\n",
    "soup = BeautifulSoup(html, 'html5lib')"
   ]
  },
  {
   "cell_type": "code",
   "execution_count": 15,
   "metadata": {},
   "outputs": [
    {
     "data": {
      "text/plain": [
       "<p>This domain is for use in illustrative examples in documents. You may use this\n",
       "    domain in literature without prior coordination or asking for permission.</p>"
      ]
     },
     "execution_count": 15,
     "metadata": {},
     "output_type": "execute_result"
    }
   ],
   "source": [
    "first_paragraph = soup.find('p')             # the first tag <p> or just soup.p\n",
    "first_paragraph"
   ]
  },
  {
   "cell_type": "code",
   "execution_count": 16,
   "metadata": {},
   "outputs": [
    {
     "data": {
      "text/plain": [
       "'This domain is for use in illustrative examples in documents. You may use this\\n    domain in literature without prior coordination or asking for permission.'"
      ]
     },
     "execution_count": 16,
     "metadata": {},
     "output_type": "execute_result"
    }
   ],
   "source": [
    "first_paragraph_text = soup.p.text           # text of the first element <p>\n",
    "first_paragraph_text"
   ]
  },
  {
   "cell_type": "code",
   "execution_count": 17,
   "metadata": {},
   "outputs": [
    {
     "data": {
      "text/plain": [
       "['This',\n",
       " 'domain',\n",
       " 'is',\n",
       " 'for',\n",
       " 'use',\n",
       " 'in',\n",
       " 'illustrative',\n",
       " 'examples',\n",
       " 'in',\n",
       " 'documents.',\n",
       " 'You',\n",
       " 'may',\n",
       " 'use',\n",
       " 'this',\n",
       " 'domain',\n",
       " 'in',\n",
       " 'literature',\n",
       " 'without',\n",
       " 'prior',\n",
       " 'coordination',\n",
       " 'or',\n",
       " 'asking',\n",
       " 'for',\n",
       " 'permission.']"
      ]
     },
     "execution_count": 17,
     "metadata": {},
     "output_type": "execute_result"
    }
   ],
   "source": [
    "first_paragraph_words = soup.p.text.split()  # words of the first element\n",
    "first_paragraph_words"
   ]
  },
  {
   "cell_type": "code",
   "execution_count": 18,
   "metadata": {},
   "outputs": [],
   "source": [
    "#first_paragraph_id = soup.p['id']           # raises KeyError if no 'id'\n",
    "\n",
    "first_paragraph_id2 = soup.p.get('id')       # returns None if no 'id'\n",
    "first_paragraph_id2"
   ]
  },
  {
   "cell_type": "code",
   "execution_count": 19,
   "metadata": {},
   "outputs": [
    {
     "data": {
      "text/plain": [
       "[<p>This domain is for use in illustrative examples in documents. You may use this\n",
       "     domain in literature without prior coordination or asking for permission.</p>,\n",
       " <p><a href=\"https://www.iana.org/domains/example\">More information...</a></p>]"
      ]
     },
     "execution_count": 19,
     "metadata": {},
     "output_type": "execute_result"
    }
   ],
   "source": [
    "all_paragraphs = soup.find_all('p')          # or just soup('p')\n",
    "all_paragraphs"
   ]
  },
  {
   "cell_type": "code",
   "execution_count": 20,
   "metadata": {},
   "outputs": [
    {
     "data": {
      "text/plain": [
       "[]"
      ]
     },
     "execution_count": 20,
     "metadata": {},
     "output_type": "execute_result"
    }
   ],
   "source": [
    "paragraphs_with_ids = [p for p in soup('p') if p.get('id')]\n",
    "paragraphs_with_ids"
   ]
  },
  {
   "cell_type": "code",
   "execution_count": 21,
   "metadata": {},
   "outputs": [
    {
     "data": {
      "text/plain": [
       "[]"
      ]
     },
     "execution_count": 21,
     "metadata": {},
     "output_type": "execute_result"
    }
   ],
   "source": [
    "important_paragraphs = soup('p', {'class' : 'important'})\n",
    "important_paragraphs"
   ]
  },
  {
   "cell_type": "code",
   "execution_count": 22,
   "metadata": {},
   "outputs": [
    {
     "data": {
      "text/plain": [
       "[]"
      ]
     },
     "execution_count": 22,
     "metadata": {},
     "output_type": "execute_result"
    }
   ],
   "source": [
    "important_paragraphs2 = soup('p', 'important')\n",
    "important_paragraphs2"
   ]
  },
  {
   "cell_type": "code",
   "execution_count": 23,
   "metadata": {},
   "outputs": [
    {
     "data": {
      "text/plain": [
       "[]"
      ]
     },
     "execution_count": 23,
     "metadata": {},
     "output_type": "execute_result"
    }
   ],
   "source": [
    "important_paragraphs3 = [p for p in soup('p')\n",
    "                         if 'important' in p.get('class', [])]\n",
    "important_paragraphs3"
   ]
  },
  {
   "cell_type": "code",
   "execution_count": 24,
   "metadata": {},
   "outputs": [],
   "source": [
    "# warning, will return the same span multiple times\n",
    "# if it sits inside multiple divs\n",
    "# be more clever if that's the case\n",
    "spans_inside_divs = [span\n",
    "                     for div in soup('div')     # for each <div> on the page\n",
    "                     for span in div('span')]   # find each <span> inside it"
   ]
  },
  {
   "cell_type": "markdown",
   "metadata": {},
   "source": [
    "## Example: O'Reilly Publisher's books about data analysis"
   ]
  },
  {
   "cell_type": "code",
   "execution_count": 25,
   "metadata": {},
   "outputs": [
    {
     "data": {
      "text/plain": [
       "<!DOCTYPE html>\n",
       "<html lang=\"en\"><head>\n",
       "    \n",
       "    <meta charset=\"utf-8\"/>\n",
       "    <meta content=\"width=device-width, initial-scale=1\" name=\"viewport\"/>\n",
       "    <meta content=\"#B9002D\" name=\"theme-color\"/>\n",
       "        <meta content=\"Gain technology and business knowledge and hone your skills with learning resources created and curated by O'Reilly's experts: live online training, video, books, conferences, our platform has content from 200+ of the world's best publishers.\" name=\"description\"/>\n",
       "        <meta content=\"O'Reilly Media - Technology and Business Training\" name=\"twitter:title\"/>\n",
       "        <meta content=\"Gain technology and business knowledge and hone your skills with learning resources created and curated by O'Reilly's experts: live online training, video, books, conferences, our platform has content from 200+ of the world's best publishers.\" name=\"twitter:description\"/>\n",
       "        <meta content=\"@OReillyMedia\" name=\"twitter:site\"/>\n",
       "        <meta content=\"website\" property=\"og:type\"/>\n",
       "        <meta content=\"O'Reilly Media - Technology and Business Training\" property=\"og:title\"/>\n",
       "        <meta content=\"summary\" name=\"twitter:card\"/>\n",
       "        <meta content=\"https://cdn.oreillystatic.com/oreilly/images/oreilly-social-icon-120.png\" name=\"twitter:image\"/>\n",
       "        <meta content=\"https://cdn.oreillystatic.com/oreilly/images/oreilly-social-icon-200.png\" property=\"og:image\"/>\n",
       "    \n",
       "\n",
       "    \n",
       "      <link as=\"style\" href=\"/search/dist/main.3eb5c7e92cfe7a83f5cf.css\" rel=\"preload\"/>\n",
       "        <link as=\"font\" crossorigin='\"anonymous\"' href=\"https://cdn.oreillystatic.com/fonts/GuardianText/GuardianTextSans-Medium-Web.woff2\" rel=\"preload\" type=\"font/woff2\"/>\n",
       "        <link as=\"font\" crossorigin='\"anonymous\"' href=\"https://cdn.oreillystatic.com/fonts/GuardianText/GuardianTextSans-Regular-Web.woff2\" rel=\"preload\" type=\"font/woff2\"/>\n",
       "    \n",
       "\n",
       "    <link href=\"//www.oreilly.com/favicon.ico\" rel=\"shortcut icon\"/>\n",
       "\n",
       "      <title>Search</title>\n",
       "\n",
       "    \n",
       "      <link href=\"/search/dist/main.3eb5c7e92cfe7a83f5cf.css\" rel=\"stylesheet\"/>\n",
       "    \n",
       "    \n",
       "    \n",
       "\n",
       "      <script src=\"https://www.datadoghq-browser-agent.com/datadog-rum-us.js\" type=\"text/javascript\"></script>\n",
       "      <script type=\"text/javascript\">\n",
       "        if (window.DD_RUM) {\n",
       "          DD_RUM.init({\n",
       "            clientToken: 'pub6c6047e16a039821eccb84b73b72f4ce',\n",
       "            applicationId: 'd635a68b-ae3b-477d-9bc6-e1fec1d2af45',\n",
       "            sampleRate: Number('' || 10)\n",
       "          });\n",
       "          DD_RUM.addRumGlobalContext('service', 'search_frontend-browser');\n",
       "          DD_RUM.addRumGlobalContext('env', 'production');\n",
       "        }\n",
       "      </script>\n",
       "    <script type=\"text/javascript\">\n",
       "      window.initialStoreData = {\"environment\":{\"origin\":\"https://internal.safaribooks.com\",\"GOOGLE_ANALYTICS_ACCOUNT\":\"UA-39299553-7\"},\"ldFeatureFlags\":{\"accountTopCertsModule\":false,\"andrewTest\":false,\"androidEnableMarketingCloudSdk\":false,\"askForReviewsIos\":true,\"atomicGrootHeronRegistrations\":true,\"betaSegmentNote\":false,\"certificationsHidePracticeExams\":false,\"certificationsPartnerOutage\":false,\"certificationsShowPeLink\":false,\"chassisHelloToggle\":false,\"conferencesDroid\":true,\"contentPlaygroundPrototype\":false,\"contentSearchExperiment\":false,\"disableIngestionPortal\":{\"disable_ftp_processing\":false,\"disable_portal\":false},\"disableViewNotebook\":false,\"displayJalapenoPoppers\":false,\"edgeCachingActiveSwitch\":false,\"eisDisableSampleUploads\":true,\"emailDeliverabilityCheck\":true,\"enableFsOnSearch\":true,\"enableMagpieImagesOnCerts\":false,\"enableNewAnonNavHeader\":false,\"enableNewRegisterPage\":false,\"enableNewSignupPage\":false,\"enableNewSubscribePage\":false,\"enablePauseSubscriptionPage\":false,\"enablePayPalChoiceButtonInNewPaymentsClient\":true,\"enablePaymentsPriceTiers\":false,\"enableRatePlanCallouts\":true,\"enableSemiAnnualPlan\":false,\"enableSuperstreamRefreshAppcuesFlow\":false,\"enableTeamSetupPage\":false,\"enableThreeMonthPlan\":true,\"enableV2SearchSuggestions\":true,\"enableSelfServiceInvoicing\":false,\"enableUnifiedAuth\":true,\"enableVwo\":true,\"enableYourAccountLink\":true,\"enabledThirdPartyAuthProviders\":[\"facebook\",\"corporate\",\"twitter\",\"google-oauth2\",\"linkedin-oauth2\",\"apple-id\"],\"extendJwtAuthenticationBypass\":false,\"falconCisUrls\":false,\"falconCisUrlsForLp\":false,\"falconLpRefidUrl\":true,\"feChassisHelloEnableConfirm\":false,\"feldtest\":false,\"focusSearchBarShortcut\":false,\"gitIntegrationTest\":false,\"heronCacheDynamicNavigation\":true,\"interactiveContent\":true,\"jupyterNotebookInSearch\":false,\"jupyterV1Web\":true,\"launchLotsInMobileSafari\":true,\"learningPathsDroid\":true,\"logLowRecaptchaScores\":0.5,\"loginCaptcha\":true,\"lpwebLandingpageV2\":true,\"misoAnswersPrototype\":false,\"moreSearchResultTypes\":false,\"multilateralFederatedAuthIntegrationAnybird\":true,\"multilateralFederatedAuthIntegrationFe\":false,\"newAnonNavHeaderFinal\":true,\"newErrorPages\":true,\"newLotExperience\":false,\"newNumberedPagination\":true,\"newSearchBar\":false,\"oreillyLabs\":false,\"paymentsClientRedirectSignupToRegisterThenSubscribe\":true,\"paymentsClientShowComparePlansLink\":false,\"paymentsClientShowYourDevicesLink\":false,\"playlistAccountSharing\":true,\"preventUsernameLogin\":true,\"priceTiering\":false,\"publicPlaylistsAndroid\":true,\"registeredLotsAndroidUpdated\":true,\"sandboxScenariosInSearch\":true,\"searchBarVariation\":\"{\\\"experiment\\\": \\\"None\\\", \\\"variation\\\": \\\"None\\\"}\",\"searchJudgement\":false,\"searchRelevanceTuning\":{\"boost\":\"if(termfreq(content_type,'chapter'),1.5,1)\",\"collapse\":true,\"highlight\":false,\"pqf\":{\"chapter_title_unstemmed\":2000,\"content_unstemmed\":2000,\"title_unstemmed\":900,\"topic_keywords\":600,\"topic_names\":1000},\"qf\":{\"chapter_title\":100,\"chapter_title_unstemmed\":100,\"content\":100,\"title\":50,\"topic_keywords\":50,\"topic_names\":50},\"tie\":0.6},\"seatCountMismatchThresholds\":{\"difference_percentage\":0.05,\"seat_capacity_percentage\":0.95},\"sendDeviceTokensToMarketingCloud\":false,\"sendTransactionalEmails\":true,\"shouldCauseCrashIos\":false,\"shouldUseUnifiedHistoryIos\":false,\"showInternalToolsIos\":false,\"showLinkAppleIcon\":true,\"showPaymentsNotificationAlert\":false,\"showReminderBarPerLd\":false,\"showScenariosInSearch\":true,\"showSearchResultTopic\":true,\"showUserDetails\":true,\"solrFieldAlias\":false,\"strataLandingPage\":true,\"syncAccountHeronTeamSetup\":true,\"syncGrootPasswords\":true,\"teachBeta\":false,\"themeVariation\":{\"brand\":\"ormProduct\",\"mode\":\"light\"},\"topicsV2ViewContentCounts\":false,\"useGrootFrontendDs\":false,\"useNewBranding\":false,\"useNewPaymentsService\":false,\"useUserAgentWorkaroundForLotsIos\":true,\"v2SuggestionsFastFollow\":true,\"whatIsJupyterNotebookLink\":true},\"jwt\":{\"_loadingState\":\"SUCCESS\"},\"navigationAndAnnouncements\":{\"announcements\":[],\"links\":{\"header\":[{\"name\":\"Online Learning\",\"link\":\"/online-learning/index.html\",\"icon\":\"\",\"groups\":[\"header\"],\"children\":[{\"name\":\"Individuals\",\"link\":\"/online-learning/individuals.html\",\"icon\":\"\"},{\"name\":\"Teams\",\"link\":\"/online-learning/teams.html\",\"icon\":\"\"},{\"name\":\"Business\",\"link\":\"/online-learning/enterprise.html\",\"icon\":\"\"},{\"name\":\"Government\",\"link\":\"/online-learning/government.html\",\"icon\":\"\"},{\"name\":\"Academic\",\"link\":\"/online-learning/academic.html\",\"icon\":\"\"},{\"name\":\"Features\",\"link\":\"/online-learning/features.html\",\"icon\":\"\"},{\"name\":\"Custom Services\",\"link\":\"/online-learning/custom-services.html\",\"icon\":\"\"},{\"name\":\"Pricing & Plans\",\"link\":\"/online-learning/pricing.html\",\"icon\":\"\"}]},{\"name\":\"What's New\",\"link\":\"/whats-new.html\",\"icon\":\"\",\"groups\":[\"header\"],\"children\":[]}],\"fineprint\":[{\"name\":\"Terms of Service\",\"link\":\"https://www.oreilly.com/terms/\",\"icon\":\"\",\"groups\":[\"fineprint\"],\"children\":[]},{\"name\":\"Privacy Policy\",\"link\":\"/privacy\",\"icon\":\"\",\"groups\":[\"fineprint\"],\"children\":[]},{\"name\":\"Editorial Independence\",\"link\":\"/about/editorial_independence.html\",\"icon\":\"\",\"groups\":[\"fineprint\"],\"children\":[]}],\"footer\":[{\"name\":\"Our Company\",\"link\":\"/about\",\"icon\":\"\",\"groups\":[\"footer\"],\"children\":[]},{\"name\":\"Teach / Speak / Write\",\"link\":\"/work-with-us\",\"icon\":\"\",\"groups\":[\"footer\"],\"children\":[]},{\"name\":\"Press / Media Inquiries\",\"link\":\"/press\",\"icon\":\"\",\"groups\":[\"footer\"],\"children\":[]},{\"name\":\"Careers\",\"link\":\"/careers\",\"icon\":\"\",\"groups\":[\"footer\"],\"children\":[]},{\"name\":\"Customer Service\",\"link\":\"/category/customer-service.do\",\"icon\":\"\",\"groups\":[\"footer\"],\"children\":[]},{\"name\":\"Contact\",\"link\":\"/about/contact.html\",\"icon\":\"\",\"groups\":[\"footer\"],\"children\":[]}],\"social\":[{\"name\":\"Twitter\",\"link\":\"https://twitter.com/oreillymedia\",\"icon\":\"twitter\",\"groups\":[\"social\"],\"children\":[]},{\"name\":\"Facebook\",\"link\":\"https://www.facebook.com/OReilly\",\"icon\":\"facebook\",\"groups\":[\"social\"],\"children\":[]},{\"name\":\"LinkedIn\",\"link\":\"https://www.linkedin.com/company/oreilly-media\",\"icon\":\"linkedin\",\"groups\":[\"social\"],\"children\":[]},{\"name\":\"YouTube\",\"link\":\"https://www.youtube.com/user/OreillyMedia\",\"icon\":\"youtube\",\"groups\":[\"social\"],\"children\":[]},{\"name\":\"Email\",\"link\":\"https://www.oreilly.com/emails/newsletters/\",\"icon\":\"email\",\"groups\":[\"social\"],\"children\":[]}]}},\"oauth\":{\"passwordAllowed\":false,\"sso\":{},\"configuration\":{\"origin\":\"https://internal.safaribooks.com\",\"GOOGLE_ANALYTICS_ACCOUNT\":\"UA-39299553-7\"}},\"user\":{\"error\":\"User is not authenticated\"},\"userInfo\":{\"meta\":{\"error\":\"User is not authenticated\"},\"profile\":{\"error\":null},\"usageStatus\":{\"error\":null}},\"userProfile\":{\"_loadingState\":\"INITIAL\"},\"appState\":{\"queryUrl\":\"/search/\",\"data\":null,\"error\":null,\"loading\":false,\"onlineTrainingStatuses\":{\"error\":\"\",\"fetching\":true,\"loaded\":false,\"statuses\":{}},\"user\":{\"user_identifier\":\"\",\"primary_account\":\"\",\"academic_institution\":false},\"judgementData\":{\"error\":\"\",\"fetching\":true,\"saving\":false,\"loaded\":false,\"judgements\":{},\"active\":false}},\"configuration\":{\"origin\":\"http://www.oreilly.com\",\"environment\":\"dev\",\"isHeron\":false},\"playlistsCoreState\":{\"mostRecentPlaylistIds\":[],\"playlists\":{\"error\":\"\",\"eTag\":\"\",\"fetching\":true,\"loaded\":false,\"playlists\":[],\"sharingEnabled\":false},\"playlistActions\":{\"updatingSharing\":false,\"sharingErrors\":{}},\"playlistSSR\":{\"error\":\"\",\"fetching\":false,\"loaded\":false,\"playlist\":{}},\"sharedPlaylist\":{\"error\":\"\",\"fetching\":false,\"loaded\":false,\"playlist\":{}}},\"reportsState\":{\"batchReports\":[],\"titleReports\":{},\"usersReport\":{},\"batchReportsIsFetching\":false,\"batchReportsDidError\":false,\"titleReportsIsFetching\":false,\"titleReportsDidError\":false,\"createReviewIsTrying\":false,\"createReviewDidSucceed\":false,\"createReviewDidError\":false,\"deleteReviewIsTrying\":false,\"deleteReviewDidSucceed\":false,\"deleteReviewDidError\":false},\"searchState\":{\"queryJson\":{},\"queryUrl\":\"/search/\"},\"dropdownState\":{\"isDropdownOpen\":false}};\n",
       "    </script>\n",
       "    <script type=\"text/javascript\">\n",
       "      window.orm = window.orm || {};\n",
       "      window.orm.redirect = function redirect(url) {\n",
       "        window.location.assign(url);\n",
       "      };\n",
       "      window.orm.logger = console;\n",
       "    </script>\n",
       "\n",
       "    \n",
       "\n",
       "      <script src=\"//fast.appcues.com/48743.js\"></script>\n",
       "\n",
       "      <script>\n",
       "        // Disable analytics when hit from DD synthetics browser\n",
       "        if (window._DATADOG_SYNTHETICS_BROWSER === undefined) {\n",
       "          if (window.initialStoreData && window.initialStoreData.userInfo.meta\n",
       "            && window.initialStoreData.userInfo.meta.user_identifier) {\n",
       "            var user = window.initialStoreData.userInfo.meta;\n",
       "            var dataLayer = window.dataLayer || [];\n",
       "\n",
       "            // Set user/session info\n",
       "            window.medalliaDsUserIdentifier = user.user_identifier;\n",
       "            window.medalliaDsSessionIdentifier = user.sessionid;\n",
       "            dataLayer.push({ userIdentifier: user.user_identifier });\n",
       "            dataLayer.push({ loggedIn: 'yes' });\n",
       "\n",
       "            // Set account/org info\n",
       "            window.medalliaDsAccountIdentifier = user.primary_account;\n",
       "            if (!user.individual) {\n",
       "              dataLayer.push({ orgID: user.primary_account });\n",
       "            }\n",
       "\n",
       "            // Set account type\n",
       "            window.medalliaDsIsIndividual = user.individual;\n",
       "            if (user.individual) {\n",
       "              if (user.subscription && user.subscription.active) {\n",
       "                dataLayer.push({learningAccountType: 'individual'});\n",
       "              } else if (user.is_trial) {\n",
       "                dataLayer.push({learningAccountType: 'free trial'});\n",
       "              }\n",
       "            } else {\n",
       "              if (user.academic_institution) {\n",
       "                dataLayer.push({learningAccountType: 'academic'});\n",
       "                window.medalliaDsIsAcademicInstitution = true;\n",
       "              } else {\n",
       "                dataLayer.push({learningAccountType: 'enterprise'});\n",
       "              }\n",
       "            }\n",
       "\n",
       "            // Set paid account\n",
       "            if (user.subscription && user.subscription.active) {\n",
       "              dataLayer.push({ learningPaidAccount: 'yes' });\n",
       "            }\n",
       "          }\n",
       "\n",
       "          (function(w,d,s,l,i){w[l]=w[l]||[];w[l].push({'gtm.start':\n",
       "            new Date().getTime(),event:'gtm.js'});var f=d.getElementsByTagName(s)[0],\n",
       "            j=d.createElement(s),dl=l!='dataLayer'?'&l='+l:'';j.async=true;j.src=\n",
       "            'https://www.googletagmanager.com/gtm.js?id='+i+dl;f.parentNode.insertBefore(j,f);\n",
       "          })(window,document,'script','dataLayer', 'GTM-5P4V6Z');\n",
       "        }\n",
       "      </script>\n",
       "\n",
       "    \n",
       "      <script defer=\"\" src=\"/search/dist/main.3eb5c7e92cfe7a83f5cf.js\"></script>\n",
       "    \n",
       "\n",
       "    \n",
       "    \n",
       "  </head>\n",
       "  <body>\n",
       "      <noscript>\n",
       "        <iframe height=\"0\" src=\"https://www.googletagmanager.com/ns.html?id=GTM-5P4V6Z\" style=\"display:none;visibility:hidden\" width=\"0\"></iframe>\n",
       "      </noscript>\n",
       "    <div id=\"root\"><div class=\"orm-ff-Shell-anonShell__wrapper\"><a class=\"orm-ff-Shell-skipLink\" href=\"#main\">Skip to content</a><header class=\"orm-ff-AnonymousNavigation-root orm-ff-AnonymousNavigation-noBoxShadow\"><div class=\"orm-ff-AnonymousNavigation-navMenu\"><div class=\"orm-ff-AnonymousNavigation-newLogo__bg\"><div class=\"orm-ff-AnonymousNavigation-newLogo__container\" data-testid=\"nav-logo\"><a href=\"/\" title=\"home page\"><img alt=\"O'Reilly home\" class=\"orm-ff-AnonymousNavigation-newLogo__image\" src=\"https://cdn.oreillystatic.com/images/sitewide-headers/oreilly_logo_mark_red.svg\"/></a></div></div></div><div class=\"orm-ff-AnonymousNavigation-newMobile__wrapper\"><div class=\"orm-ff-SearchBarMobileMenu-root\"><div><button aria-label=\"search\" class=\"orm-Button-root orm-ff-SearchBarMobileMenu-searchMobileMenuButton orm-ff-AnonymousNavigation-searchMobileMenu__button\"><span class=\"orm-Button-btnContentWrap\"><span class=\"orm-Icon-root\" data-testid=\"icon\" style=\"height:1.5rem\"><span aria-hidden=\"true\" class=\"orm-Icon-icon orm-icon-search\" style=\"font-size:1.5rem;width:1.5rem;height:1.5rem\"></span><span class=\"orm-Icon-title\">search</span></span></span></button><div></div></div></div><div class=\"orm-ff-AnonymousNavigationMobileMenu-root\"><div><button aria-expanded=\"false\" aria-label=\"open menu\" class=\"orm-Button-root orm-ff-AnonymousNavigationMobileMenu-anonNavMobileMenu__button orm-ff-AnonymousNavigation-menuMobileMenu__button orm-ff-AnonymousNavigation-menuMobileMenu__button\"><span class=\"orm-Button-btnContentWrap\"><span class=\"orm-Icon-root\" data-testid=\"icon\" style=\"height:1.5rem\"><span aria-hidden=\"true\" class=\"orm-Icon-icon orm-icon-menu\" style=\"font-size:1.5rem;width:1.5rem;height:1.5rem\"></span><span class=\"orm-Icon-title\">menu</span></span></span></button><div></div></div></div></div></header><main class=\"orm-ff-Shell-main orm-ff-Shell-collapsedMain\" id=\"main\" tabindex=\"-1\"><div class=\"anonContainer--2EDHq\"><div class=\"loadingContainer--2v-nP\"><div class=\"orm-LoadingModule-loading\"><span class=\"orm-LoadingODot-oDot_wrapper\" data-testid=\"loadingODot\"><span class=\"orm-LoadingODot-oDotRing orm-LoadingODot-oDotRing_small orm-LoadingODot-oDotRing__animate\"><span class=\"orm-LoadingODot-oDotOverRing_svg\"><svg viewBox=\"0 0 100 100\" x=\"0px\" y=\"0px\"><circle class=\"orm-LoadingODot-oDotRing_circle orm-LoadingODot-oDotRing_red orm-LoadingODot-oDotOverRing_circle\" cx=\"50\" cy=\"50\" r=\"40\"></circle></svg></span><span class=\"orm-LoadingODot-oDotMidRing_svg orm-LoadingODot-oDotMidRing_svg__animate\"><svg viewBox=\"0 0 100 100\" x=\"0px\" y=\"0px\"><circle class=\"orm-LoadingODot-oDotRing_circle orm-LoadingODot-oDotRing_red\" cx=\"50\" cy=\"50\" r=\"40\"></circle></svg></span><span class=\"orm-LoadingODot-oDotUnderRing_svg\"><svg viewBox=\"0 0 100 100\" x=\"0px\" y=\"0px\"><circle class=\"orm-LoadingODot-oDotRing_circle orm-LoadingODot-oDotRing_red\" cx=\"50\" cy=\"50\" r=\"40\"></circle></svg></span></span><span class=\"orm-LoadingODot-oDot orm-LoadingODot-oDot_small\"><svg viewBox=\"0 0 100 100\" x=\"0px\" y=\"0px\"><circle class=\"orm-LoadingODot-oDot_circle orm-LoadingODot-oDot_red\" cx=\"50\" cy=\"50\" r=\"40\"></circle></svg></span></span><p class=\"orm-LoadingModule-loading__headline\">Wait for it…wait for it…</p></div></div></div></main><footer class=\"orm-ff-AnonymousFooter-root orm-ff-Shell-anonFooter\" role=\"contentinfo\"><div class=\"orm-Grid-root orm-container\"><div class=\"orm-row orm-Grid-root\"><ul class=\"orm-Grid-root orm-ff-AnonymousFooter-textLinks orm-ff-AnonymousFooter-textLinksUl orm-col-medium-8 orm-col-small-960-8 orm-col-small-8 orm-col-xsmall-600-8 orm-col-xsmall-4\"><li><a href=\"/about\">Our Company</a></li><li><a href=\"/work-with-us\">Teach / Speak / Write</a></li><li><a href=\"/press\">Press / Media Inquiries</a></li><li><a href=\"/careers\">Careers</a></li><li><a href=\"/category/customer-service.do\">Customer Service</a></li><li><a href=\"/about/contact.html\">Contact</a></li></ul><div class=\"orm-Grid-root orm-ff-AnonymousFooter-iconLinks orm-col-medium-4 orm-col-small-960-4 orm-col-small-4 orm-col-xsmall-600-8 orm-col-xsmall-4\"><ul><li><a href=\"https://twitter.com/oreillymedia\"><span class=\"orm-Icon-root\" data-testid=\"icon\" style=\"height:1.5rem\"><span aria-hidden=\"true\" class=\"orm-Icon-icon orm-icon-twitter\" style=\"font-size:1.5rem;width:1.5rem;height:1.5rem\"></span><span class=\"orm-Icon-title\">twitter</span></span></a></li><li><a href=\"https://www.facebook.com/OReilly\"><span class=\"orm-Icon-root\" data-testid=\"icon\" style=\"height:1.5rem\"><span aria-hidden=\"true\" class=\"orm-Icon-icon orm-icon-facebook\" style=\"font-size:1.5rem;width:1.5rem;height:1.5rem\"></span><span class=\"orm-Icon-title\">facebook</span></span></a></li><li><a href=\"https://www.linkedin.com/company/oreilly-media\"><span class=\"orm-Icon-root\" data-testid=\"icon\" style=\"height:1.5rem\"><span aria-hidden=\"true\" class=\"orm-Icon-icon orm-icon-linkedin\" style=\"font-size:1.5rem;width:1.5rem;height:1.5rem\"></span><span class=\"orm-Icon-title\">linkedin</span></span></a></li><li><a href=\"https://www.youtube.com/user/OreillyMedia\"><span class=\"orm-Icon-root\" data-testid=\"icon\" style=\"height:1.5rem\"><span aria-hidden=\"true\" class=\"orm-Icon-icon orm-icon-youtube\" style=\"font-size:1.5rem;width:1.5rem;height:1.5rem\"></span><span class=\"orm-Icon-title\">youtube</span></span></a></li><li><a href=\"https://www.oreilly.com/emails/newsletters/\"><span class=\"orm-Icon-root\" data-testid=\"icon\" style=\"height:1.5rem\"><span aria-hidden=\"true\" class=\"orm-Icon-icon orm-icon-email\" style=\"font-size:1.5rem;width:1.5rem;height:1.5rem\"></span><span class=\"orm-Icon-title\">email</span></span></a></li></ul></div></div><div class=\"orm-row orm-Grid-root\"><div class=\"orm-Grid-root orm-col-medium-8 orm-col-small-960-8 orm-col-small-8 orm-col-xsmall-600-8 orm-col-xsmall-4\"><div class=\"orm-ff-AnonymousFooter-copyright\">© <!-- -->2020<!-- --> O’Reilly Media, Inc. All trademarks and registered trademarks appearing on oreilly.com are the property of their respective owners.</div><div class=\"orm-ff-AnonymousFooter-smallLinks\"><ul><li><a href=\"https://www.oreilly.com/terms/\">Terms of Service</a></li><li><a href=\"/privacy\">Privacy Policy</a></li><li><a href=\"/about/editorial_independence.html\">Editorial Independence</a></li></ul></div></div></div></div></footer></div></div>\n",
       "  \n",
       "\n",
       "</body></html>"
      ]
     },
     "execution_count": 25,
     "metadata": {},
     "output_type": "execute_result"
    }
   ],
   "source": [
    "url = 'http://shop.oreilly.com/category/browse-subjects/data.do?sortby=publicationDate&page=1'\n",
    "soup = BeautifulSoup(requests.get(url).text, 'html5lib')\n",
    "soup"
   ]
  },
  {
   "cell_type": "code",
   "execution_count": 26,
   "metadata": {},
   "outputs": [],
   "source": [
    "# in 2020 on the link specified in the book the code is already different,\n",
    "# there isn't tag <video>, so the code is not executable.\n",
    "# I can only write code for Python 3, but without execution."
   ]
  },
  {
   "cell_type": "code",
   "execution_count": 27,
   "metadata": {},
   "outputs": [
    {
     "data": {
      "text/plain": [
       "[]"
      ]
     },
     "execution_count": 27,
     "metadata": {},
     "output_type": "execute_result"
    }
   ],
   "source": [
    "tds = soup('td', 'thumbtext')\n",
    "tds"
   ]
  },
  {
   "cell_type": "code",
   "execution_count": 28,
   "metadata": {},
   "outputs": [
    {
     "data": {
      "text/plain": [
       "0"
      ]
     },
     "execution_count": 28,
     "metadata": {},
     "output_type": "execute_result"
    }
   ],
   "source": [
    "def is_video(td):\n",
    "    # it's a video if it has exactly one pricelabel, and if\n",
    "    # the stripped text inside that pricelabel starts with 'Video'\n",
    "    # pricelabels = td('span', 'pricelabel')\n",
    "    return (len(pricelabels) == 1 and\n",
    "            pricelabels[0].text.strip().startswith('Video'))\n",
    "\n",
    "len([td for td in tds if not is_video(td)])"
   ]
  },
  {
   "cell_type": "code",
   "execution_count": 29,
   "metadata": {},
   "outputs": [],
   "source": [
    "def book_info(td):\n",
    "    # given a BeautifulSoup <td> Tag representing a book,\n",
    "    # extract the book's details and return a dict\n",
    "\n",
    "    title = td.find('div', 'thumbheader').a.text\n",
    "    by_author = td.find('div', 'AuthorName').text\n",
    "    authors = [x.strip() for x in re.sub('^By ', '', by_author).split(',')]\n",
    "    isbn_link = td.find('div', 'thumbheader').a.get('href')\n",
    "    isbn = re.match('/product/(.*)\\.do', isbn_link).groups()[0]\n",
    "    date = td.find('span', 'directorydate').text.strip()\n",
    "\n",
    "    return {\n",
    "        'title' : title,\n",
    "        'authors' : authors,\n",
    "        'isbn' : isbn,\n",
    "        'date' : date\n",
    "    }"
   ]
  },
  {
   "cell_type": "code",
   "execution_count": 30,
   "metadata": {},
   "outputs": [],
   "source": [
    "from time import sleep\n",
    "\n",
    "def scrape(num_pages=30):\n",
    "    base_url = \"http://shop.oreilly.com/category/browse-subjects/data.do?sortby=publicationDate&page=1\"\n",
    "\n",
    "    books = []\n",
    "\n",
    "    for page_num in range(1, num_pages + 1):\n",
    "        print('souping page', page_num)\n",
    "        url = base_url + str(page_num)\n",
    "        soup = BeautifulSoup(requests.get(url).text, 'html5lib')\n",
    "\n",
    "        for td in soup('td', 'thumbtext'):\n",
    "            if not is_video(td):\n",
    "                books.append(book_info(td))\n",
    "\n",
    "        # now be a good citizen and respect the robots.txt!\n",
    "        sleep(30)\n",
    "\n",
    "    return books"
   ]
  },
  {
   "cell_type": "code",
   "execution_count": 31,
   "metadata": {},
   "outputs": [],
   "source": [
    "def get_year(book):\n",
    "    # book[\"date\"] looks like 'July 2020' so we need to\n",
    "    # split on the space and then take the second piece\n",
    "    return int(book['date'].split()[1])"
   ]
  },
  {
   "cell_type": "code",
   "execution_count": 32,
   "metadata": {},
   "outputs": [],
   "source": [
    "def plot_years(plt, books):\n",
    "    # 2019 is the last complete year of data \n",
    "    year_counts = Counter(get_year(book) for book in books\n",
    "                          if get_year(book) <= 2019)\n",
    "\n",
    "    years = sorted(year_counts)\n",
    "    book_counts = [year_counts[year] for year in x]\n",
    "    plt.bar([x - 0.5 for x in years], book_counts)\n",
    "    plt.xlabel('year')\n",
    "    plt.ylabel('# of data books')\n",
    "    plt.title('Data is Big!')"
   ]
  },
  {
   "cell_type": "markdown",
   "metadata": {},
   "source": [
    "# Using API"
   ]
  },
  {
   "cell_type": "markdown",
   "metadata": {},
   "source": [
    "## JSON and XML formats"
   ]
  },
  {
   "cell_type": "code",
   "execution_count": 44,
   "metadata": {},
   "outputs": [
    {
     "name": "stdout",
     "output_type": "stream",
     "text": [
      "{'title': 'Data Science Book', 'author': 'Joel Grus', 'publicationYear': '2015', 'topics': ['data', 'science', 'data science']}\n"
     ]
    }
   ],
   "source": [
    "import json\n",
    "\n",
    "serialized = '''{ \"title\" : \"Data Science Book\",\n",
    "                  \"author\" : \"Joel Grus\",\n",
    "                  \"publicationYear\" : \"2015\",\n",
    "                  \"topics\" : [ \"data\", \"science\", \"data science\"] }'''\n",
    "\n",
    "# parse the JSON to create a Python dict\n",
    "deserialized = json.loads(serialized)\n",
    "if \"data science\" in deserialized[\"topics\"]:\n",
    "    print(deserialized)"
   ]
  },
  {
   "cell_type": "markdown",
   "metadata": {},
   "source": [
    "## Using unverified API"
   ]
  },
  {
   "cell_type": "code",
   "execution_count": 45,
   "metadata": {},
   "outputs": [],
   "source": [
    "import requests\n",
    "from collections import Counter\n",
    "\n",
    "endpoint = 'https://api.github.com/users/MarkVoitov/repos' #  public storages in my GitHub account\n",
    "\n",
    "repos = json.loads(requests.get(endpoint).text)"
   ]
  },
  {
   "cell_type": "code",
   "execution_count": 46,
   "metadata": {},
   "outputs": [
    {
     "data": {
      "text/plain": [
       "[datetime.datetime(2020, 2, 29, 22, 24, 50, tzinfo=tzutc()),\n",
       " datetime.datetime(2020, 2, 24, 10, 32, 32, tzinfo=tzutc()),\n",
       " datetime.datetime(2020, 3, 23, 18, 1, 36, tzinfo=tzutc()),\n",
       " datetime.datetime(2020, 6, 19, 15, 12, 51, tzinfo=tzutc()),\n",
       " datetime.datetime(2020, 6, 30, 20, 38, 45, tzinfo=tzutc()),\n",
       " datetime.datetime(2020, 3, 10, 7, 52, 54, tzinfo=tzutc()),\n",
       " datetime.datetime(2020, 6, 30, 20, 5, 46, tzinfo=tzutc()),\n",
       " datetime.datetime(2019, 10, 21, 13, 5, 28, tzinfo=tzutc()),\n",
       " datetime.datetime(2020, 4, 4, 21, 43, 39, tzinfo=tzutc()),\n",
       " datetime.datetime(2020, 4, 22, 21, 22, 33, tzinfo=tzutc()),\n",
       " datetime.datetime(2020, 3, 5, 10, 45, 39, tzinfo=tzutc()),\n",
       " datetime.datetime(2020, 4, 11, 11, 52, 52, tzinfo=tzutc()),\n",
       " datetime.datetime(2019, 12, 10, 15, 0, 58, tzinfo=tzutc()),\n",
       " datetime.datetime(2020, 4, 18, 13, 7, 39, tzinfo=tzutc()),\n",
       " datetime.datetime(2020, 6, 21, 21, 2, 29, tzinfo=tzutc()),\n",
       " datetime.datetime(2020, 2, 27, 8, 32, 26, tzinfo=tzutc()),\n",
       " datetime.datetime(2019, 11, 22, 10, 53, 4, tzinfo=tzutc())]"
      ]
     },
     "execution_count": 46,
     "metadata": {},
     "output_type": "execute_result"
    }
   ],
   "source": [
    "from dateutil.parser import parse\n",
    "\n",
    "dates = [parse(repo[\"created_at\"]) for repo in repos]\n",
    "dates"
   ]
  },
  {
   "cell_type": "code",
   "execution_count": 47,
   "metadata": {},
   "outputs": [
    {
     "data": {
      "text/plain": [
       "Counter({2: 3, 3: 3, 6: 4, 10: 1, 4: 4, 12: 1, 11: 1})"
      ]
     },
     "execution_count": 47,
     "metadata": {},
     "output_type": "execute_result"
    }
   ],
   "source": [
    "month_counts = Counter(date.month for date in dates)\n",
    "month_counts"
   ]
  },
  {
   "cell_type": "code",
   "execution_count": 48,
   "metadata": {},
   "outputs": [
    {
     "data": {
      "text/plain": [
       "Counter({5: 4, 0: 3, 4: 2, 1: 4, 2: 1, 3: 2, 6: 1})"
      ]
     },
     "execution_count": 48,
     "metadata": {},
     "output_type": "execute_result"
    }
   ],
   "source": [
    "weekday_counts = Counter(date.weekday() for date in dates)\n",
    "weekday_counts"
   ]
  },
  {
   "cell_type": "code",
   "execution_count": 51,
   "metadata": {},
   "outputs": [
    {
     "data": {
      "text/plain": [
       "[{'id': 276203647,\n",
       "  'node_id': 'MDEwOlJlcG9zaXRvcnkyNzYyMDM2NDc=',\n",
       "  'name': 'data-science-from-scratch',\n",
       "  'full_name': 'MarkVoitov/data-science-from-scratch',\n",
       "  'private': False,\n",
       "  'owner': {'login': 'MarkVoitov',\n",
       "   'id': 56827081,\n",
       "   'node_id': 'MDQ6VXNlcjU2ODI3MDgx',\n",
       "   'avatar_url': 'https://avatars1.githubusercontent.com/u/56827081?v=4',\n",
       "   'gravatar_id': '',\n",
       "   'url': 'https://api.github.com/users/MarkVoitov',\n",
       "   'html_url': 'https://github.com/MarkVoitov',\n",
       "   'followers_url': 'https://api.github.com/users/MarkVoitov/followers',\n",
       "   'following_url': 'https://api.github.com/users/MarkVoitov/following{/other_user}',\n",
       "   'gists_url': 'https://api.github.com/users/MarkVoitov/gists{/gist_id}',\n",
       "   'starred_url': 'https://api.github.com/users/MarkVoitov/starred{/owner}{/repo}',\n",
       "   'subscriptions_url': 'https://api.github.com/users/MarkVoitov/subscriptions',\n",
       "   'organizations_url': 'https://api.github.com/users/MarkVoitov/orgs',\n",
       "   'repos_url': 'https://api.github.com/users/MarkVoitov/repos',\n",
       "   'events_url': 'https://api.github.com/users/MarkVoitov/events{/privacy}',\n",
       "   'received_events_url': 'https://api.github.com/users/MarkVoitov/received_events',\n",
       "   'type': 'User',\n",
       "   'site_admin': False},\n",
       "  'html_url': 'https://github.com/MarkVoitov/data-science-from-scratch',\n",
       "  'description': 'Examples from Data Science From Scratch book with executed code in Jupiter Notebook',\n",
       "  'fork': True,\n",
       "  'url': 'https://api.github.com/repos/MarkVoitov/data-science-from-scratch',\n",
       "  'forks_url': 'https://api.github.com/repos/MarkVoitov/data-science-from-scratch/forks',\n",
       "  'keys_url': 'https://api.github.com/repos/MarkVoitov/data-science-from-scratch/keys{/key_id}',\n",
       "  'collaborators_url': 'https://api.github.com/repos/MarkVoitov/data-science-from-scratch/collaborators{/collaborator}',\n",
       "  'teams_url': 'https://api.github.com/repos/MarkVoitov/data-science-from-scratch/teams',\n",
       "  'hooks_url': 'https://api.github.com/repos/MarkVoitov/data-science-from-scratch/hooks',\n",
       "  'issue_events_url': 'https://api.github.com/repos/MarkVoitov/data-science-from-scratch/issues/events{/number}',\n",
       "  'events_url': 'https://api.github.com/repos/MarkVoitov/data-science-from-scratch/events',\n",
       "  'assignees_url': 'https://api.github.com/repos/MarkVoitov/data-science-from-scratch/assignees{/user}',\n",
       "  'branches_url': 'https://api.github.com/repos/MarkVoitov/data-science-from-scratch/branches{/branch}',\n",
       "  'tags_url': 'https://api.github.com/repos/MarkVoitov/data-science-from-scratch/tags',\n",
       "  'blobs_url': 'https://api.github.com/repos/MarkVoitov/data-science-from-scratch/git/blobs{/sha}',\n",
       "  'git_tags_url': 'https://api.github.com/repos/MarkVoitov/data-science-from-scratch/git/tags{/sha}',\n",
       "  'git_refs_url': 'https://api.github.com/repos/MarkVoitov/data-science-from-scratch/git/refs{/sha}',\n",
       "  'trees_url': 'https://api.github.com/repos/MarkVoitov/data-science-from-scratch/git/trees{/sha}',\n",
       "  'statuses_url': 'https://api.github.com/repos/MarkVoitov/data-science-from-scratch/statuses/{sha}',\n",
       "  'languages_url': 'https://api.github.com/repos/MarkVoitov/data-science-from-scratch/languages',\n",
       "  'stargazers_url': 'https://api.github.com/repos/MarkVoitov/data-science-from-scratch/stargazers',\n",
       "  'contributors_url': 'https://api.github.com/repos/MarkVoitov/data-science-from-scratch/contributors',\n",
       "  'subscribers_url': 'https://api.github.com/repos/MarkVoitov/data-science-from-scratch/subscribers',\n",
       "  'subscription_url': 'https://api.github.com/repos/MarkVoitov/data-science-from-scratch/subscription',\n",
       "  'commits_url': 'https://api.github.com/repos/MarkVoitov/data-science-from-scratch/commits{/sha}',\n",
       "  'git_commits_url': 'https://api.github.com/repos/MarkVoitov/data-science-from-scratch/git/commits{/sha}',\n",
       "  'comments_url': 'https://api.github.com/repos/MarkVoitov/data-science-from-scratch/comments{/number}',\n",
       "  'issue_comment_url': 'https://api.github.com/repos/MarkVoitov/data-science-from-scratch/issues/comments{/number}',\n",
       "  'contents_url': 'https://api.github.com/repos/MarkVoitov/data-science-from-scratch/contents/{+path}',\n",
       "  'compare_url': 'https://api.github.com/repos/MarkVoitov/data-science-from-scratch/compare/{base}...{head}',\n",
       "  'merges_url': 'https://api.github.com/repos/MarkVoitov/data-science-from-scratch/merges',\n",
       "  'archive_url': 'https://api.github.com/repos/MarkVoitov/data-science-from-scratch/{archive_format}{/ref}',\n",
       "  'downloads_url': 'https://api.github.com/repos/MarkVoitov/data-science-from-scratch/downloads',\n",
       "  'issues_url': 'https://api.github.com/repos/MarkVoitov/data-science-from-scratch/issues{/number}',\n",
       "  'pulls_url': 'https://api.github.com/repos/MarkVoitov/data-science-from-scratch/pulls{/number}',\n",
       "  'milestones_url': 'https://api.github.com/repos/MarkVoitov/data-science-from-scratch/milestones{/number}',\n",
       "  'notifications_url': 'https://api.github.com/repos/MarkVoitov/data-science-from-scratch/notifications{?since,all,participating}',\n",
       "  'labels_url': 'https://api.github.com/repos/MarkVoitov/data-science-from-scratch/labels{/name}',\n",
       "  'releases_url': 'https://api.github.com/repos/MarkVoitov/data-science-from-scratch/releases{/id}',\n",
       "  'deployments_url': 'https://api.github.com/repos/MarkVoitov/data-science-from-scratch/deployments',\n",
       "  'created_at': '2020-06-30T20:38:45Z',\n",
       "  'updated_at': '2020-07-18T15:38:48Z',\n",
       "  'pushed_at': '2020-07-18T15:38:41Z',\n",
       "  'git_url': 'git://github.com/MarkVoitov/data-science-from-scratch.git',\n",
       "  'ssh_url': 'git@github.com:MarkVoitov/data-science-from-scratch.git',\n",
       "  'clone_url': 'https://github.com/MarkVoitov/data-science-from-scratch.git',\n",
       "  'svn_url': 'https://github.com/MarkVoitov/data-science-from-scratch',\n",
       "  'homepage': '',\n",
       "  'size': 1265,\n",
       "  'stargazers_count': 0,\n",
       "  'watchers_count': 0,\n",
       "  'language': 'Jupyter Notebook',\n",
       "  'has_issues': False,\n",
       "  'has_projects': True,\n",
       "  'has_downloads': True,\n",
       "  'has_wiki': True,\n",
       "  'has_pages': False,\n",
       "  'forks_count': 0,\n",
       "  'mirror_url': None,\n",
       "  'archived': False,\n",
       "  'disabled': False,\n",
       "  'open_issues_count': 0,\n",
       "  'license': {'key': 'mit',\n",
       "   'name': 'MIT License',\n",
       "   'spdx_id': 'MIT',\n",
       "   'url': 'https://api.github.com/licenses/mit',\n",
       "   'node_id': 'MDc6TGljZW5zZTEz'},\n",
       "  'forks': 0,\n",
       "  'open_issues': 0,\n",
       "  'watchers': 0,\n",
       "  'default_branch': 'master'},\n",
       " {'id': 276197531,\n",
       "  'node_id': 'MDEwOlJlcG9zaXRvcnkyNzYxOTc1MzE=',\n",
       "  'name': 'grocery_shopping_list',\n",
       "  'full_name': 'MarkVoitov/grocery_shopping_list',\n",
       "  'private': False,\n",
       "  'owner': {'login': 'MarkVoitov',\n",
       "   'id': 56827081,\n",
       "   'node_id': 'MDQ6VXNlcjU2ODI3MDgx',\n",
       "   'avatar_url': 'https://avatars1.githubusercontent.com/u/56827081?v=4',\n",
       "   'gravatar_id': '',\n",
       "   'url': 'https://api.github.com/users/MarkVoitov',\n",
       "   'html_url': 'https://github.com/MarkVoitov',\n",
       "   'followers_url': 'https://api.github.com/users/MarkVoitov/followers',\n",
       "   'following_url': 'https://api.github.com/users/MarkVoitov/following{/other_user}',\n",
       "   'gists_url': 'https://api.github.com/users/MarkVoitov/gists{/gist_id}',\n",
       "   'starred_url': 'https://api.github.com/users/MarkVoitov/starred{/owner}{/repo}',\n",
       "   'subscriptions_url': 'https://api.github.com/users/MarkVoitov/subscriptions',\n",
       "   'organizations_url': 'https://api.github.com/users/MarkVoitov/orgs',\n",
       "   'repos_url': 'https://api.github.com/users/MarkVoitov/repos',\n",
       "   'events_url': 'https://api.github.com/users/MarkVoitov/events{/privacy}',\n",
       "   'received_events_url': 'https://api.github.com/users/MarkVoitov/received_events',\n",
       "   'type': 'User',\n",
       "   'site_admin': False},\n",
       "  'html_url': 'https://github.com/MarkVoitov/grocery_shopping_list',\n",
       "  'description': 'Small program: shopping list for grocery purchases',\n",
       "  'fork': False,\n",
       "  'url': 'https://api.github.com/repos/MarkVoitov/grocery_shopping_list',\n",
       "  'forks_url': 'https://api.github.com/repos/MarkVoitov/grocery_shopping_list/forks',\n",
       "  'keys_url': 'https://api.github.com/repos/MarkVoitov/grocery_shopping_list/keys{/key_id}',\n",
       "  'collaborators_url': 'https://api.github.com/repos/MarkVoitov/grocery_shopping_list/collaborators{/collaborator}',\n",
       "  'teams_url': 'https://api.github.com/repos/MarkVoitov/grocery_shopping_list/teams',\n",
       "  'hooks_url': 'https://api.github.com/repos/MarkVoitov/grocery_shopping_list/hooks',\n",
       "  'issue_events_url': 'https://api.github.com/repos/MarkVoitov/grocery_shopping_list/issues/events{/number}',\n",
       "  'events_url': 'https://api.github.com/repos/MarkVoitov/grocery_shopping_list/events',\n",
       "  'assignees_url': 'https://api.github.com/repos/MarkVoitov/grocery_shopping_list/assignees{/user}',\n",
       "  'branches_url': 'https://api.github.com/repos/MarkVoitov/grocery_shopping_list/branches{/branch}',\n",
       "  'tags_url': 'https://api.github.com/repos/MarkVoitov/grocery_shopping_list/tags',\n",
       "  'blobs_url': 'https://api.github.com/repos/MarkVoitov/grocery_shopping_list/git/blobs{/sha}',\n",
       "  'git_tags_url': 'https://api.github.com/repos/MarkVoitov/grocery_shopping_list/git/tags{/sha}',\n",
       "  'git_refs_url': 'https://api.github.com/repos/MarkVoitov/grocery_shopping_list/git/refs{/sha}',\n",
       "  'trees_url': 'https://api.github.com/repos/MarkVoitov/grocery_shopping_list/git/trees{/sha}',\n",
       "  'statuses_url': 'https://api.github.com/repos/MarkVoitov/grocery_shopping_list/statuses/{sha}',\n",
       "  'languages_url': 'https://api.github.com/repos/MarkVoitov/grocery_shopping_list/languages',\n",
       "  'stargazers_url': 'https://api.github.com/repos/MarkVoitov/grocery_shopping_list/stargazers',\n",
       "  'contributors_url': 'https://api.github.com/repos/MarkVoitov/grocery_shopping_list/contributors',\n",
       "  'subscribers_url': 'https://api.github.com/repos/MarkVoitov/grocery_shopping_list/subscribers',\n",
       "  'subscription_url': 'https://api.github.com/repos/MarkVoitov/grocery_shopping_list/subscription',\n",
       "  'commits_url': 'https://api.github.com/repos/MarkVoitov/grocery_shopping_list/commits{/sha}',\n",
       "  'git_commits_url': 'https://api.github.com/repos/MarkVoitov/grocery_shopping_list/git/commits{/sha}',\n",
       "  'comments_url': 'https://api.github.com/repos/MarkVoitov/grocery_shopping_list/comments{/number}',\n",
       "  'issue_comment_url': 'https://api.github.com/repos/MarkVoitov/grocery_shopping_list/issues/comments{/number}',\n",
       "  'contents_url': 'https://api.github.com/repos/MarkVoitov/grocery_shopping_list/contents/{+path}',\n",
       "  'compare_url': 'https://api.github.com/repos/MarkVoitov/grocery_shopping_list/compare/{base}...{head}',\n",
       "  'merges_url': 'https://api.github.com/repos/MarkVoitov/grocery_shopping_list/merges',\n",
       "  'archive_url': 'https://api.github.com/repos/MarkVoitov/grocery_shopping_list/{archive_format}{/ref}',\n",
       "  'downloads_url': 'https://api.github.com/repos/MarkVoitov/grocery_shopping_list/downloads',\n",
       "  'issues_url': 'https://api.github.com/repos/MarkVoitov/grocery_shopping_list/issues{/number}',\n",
       "  'pulls_url': 'https://api.github.com/repos/MarkVoitov/grocery_shopping_list/pulls{/number}',\n",
       "  'milestones_url': 'https://api.github.com/repos/MarkVoitov/grocery_shopping_list/milestones{/number}',\n",
       "  'notifications_url': 'https://api.github.com/repos/MarkVoitov/grocery_shopping_list/notifications{?since,all,participating}',\n",
       "  'labels_url': 'https://api.github.com/repos/MarkVoitov/grocery_shopping_list/labels{/name}',\n",
       "  'releases_url': 'https://api.github.com/repos/MarkVoitov/grocery_shopping_list/releases{/id}',\n",
       "  'deployments_url': 'https://api.github.com/repos/MarkVoitov/grocery_shopping_list/deployments',\n",
       "  'created_at': '2020-06-30T20:05:46Z',\n",
       "  'updated_at': '2020-06-30T20:12:11Z',\n",
       "  'pushed_at': '2020-06-30T20:12:09Z',\n",
       "  'git_url': 'git://github.com/MarkVoitov/grocery_shopping_list.git',\n",
       "  'ssh_url': 'git@github.com:MarkVoitov/grocery_shopping_list.git',\n",
       "  'clone_url': 'https://github.com/MarkVoitov/grocery_shopping_list.git',\n",
       "  'svn_url': 'https://github.com/MarkVoitov/grocery_shopping_list',\n",
       "  'homepage': '',\n",
       "  'size': 2,\n",
       "  'stargazers_count': 0,\n",
       "  'watchers_count': 0,\n",
       "  'language': 'Python',\n",
       "  'has_issues': True,\n",
       "  'has_projects': True,\n",
       "  'has_downloads': True,\n",
       "  'has_wiki': True,\n",
       "  'has_pages': False,\n",
       "  'forks_count': 0,\n",
       "  'mirror_url': None,\n",
       "  'archived': False,\n",
       "  'disabled': False,\n",
       "  'open_issues_count': 0,\n",
       "  'license': None,\n",
       "  'forks': 0,\n",
       "  'open_issues': 0,\n",
       "  'watchers': 0,\n",
       "  'default_branch': 'master'},\n",
       " {'id': 273983181,\n",
       "  'node_id': 'MDEwOlJlcG9zaXRvcnkyNzM5ODMxODE=',\n",
       "  'name': 'usd_rates_prediction',\n",
       "  'full_name': 'MarkVoitov/usd_rates_prediction',\n",
       "  'private': False,\n",
       "  'owner': {'login': 'MarkVoitov',\n",
       "   'id': 56827081,\n",
       "   'node_id': 'MDQ6VXNlcjU2ODI3MDgx',\n",
       "   'avatar_url': 'https://avatars1.githubusercontent.com/u/56827081?v=4',\n",
       "   'gravatar_id': '',\n",
       "   'url': 'https://api.github.com/users/MarkVoitov',\n",
       "   'html_url': 'https://github.com/MarkVoitov',\n",
       "   'followers_url': 'https://api.github.com/users/MarkVoitov/followers',\n",
       "   'following_url': 'https://api.github.com/users/MarkVoitov/following{/other_user}',\n",
       "   'gists_url': 'https://api.github.com/users/MarkVoitov/gists{/gist_id}',\n",
       "   'starred_url': 'https://api.github.com/users/MarkVoitov/starred{/owner}{/repo}',\n",
       "   'subscriptions_url': 'https://api.github.com/users/MarkVoitov/subscriptions',\n",
       "   'organizations_url': 'https://api.github.com/users/MarkVoitov/orgs',\n",
       "   'repos_url': 'https://api.github.com/users/MarkVoitov/repos',\n",
       "   'events_url': 'https://api.github.com/users/MarkVoitov/events{/privacy}',\n",
       "   'received_events_url': 'https://api.github.com/users/MarkVoitov/received_events',\n",
       "   'type': 'User',\n",
       "   'site_admin': False},\n",
       "  'html_url': 'https://github.com/MarkVoitov/usd_rates_prediction',\n",
       "  'description': 'Построение различных моделей линейной регрессии для предсказания курса доллара',\n",
       "  'fork': False,\n",
       "  'url': 'https://api.github.com/repos/MarkVoitov/usd_rates_prediction',\n",
       "  'forks_url': 'https://api.github.com/repos/MarkVoitov/usd_rates_prediction/forks',\n",
       "  'keys_url': 'https://api.github.com/repos/MarkVoitov/usd_rates_prediction/keys{/key_id}',\n",
       "  'collaborators_url': 'https://api.github.com/repos/MarkVoitov/usd_rates_prediction/collaborators{/collaborator}',\n",
       "  'teams_url': 'https://api.github.com/repos/MarkVoitov/usd_rates_prediction/teams',\n",
       "  'hooks_url': 'https://api.github.com/repos/MarkVoitov/usd_rates_prediction/hooks',\n",
       "  'issue_events_url': 'https://api.github.com/repos/MarkVoitov/usd_rates_prediction/issues/events{/number}',\n",
       "  'events_url': 'https://api.github.com/repos/MarkVoitov/usd_rates_prediction/events',\n",
       "  'assignees_url': 'https://api.github.com/repos/MarkVoitov/usd_rates_prediction/assignees{/user}',\n",
       "  'branches_url': 'https://api.github.com/repos/MarkVoitov/usd_rates_prediction/branches{/branch}',\n",
       "  'tags_url': 'https://api.github.com/repos/MarkVoitov/usd_rates_prediction/tags',\n",
       "  'blobs_url': 'https://api.github.com/repos/MarkVoitov/usd_rates_prediction/git/blobs{/sha}',\n",
       "  'git_tags_url': 'https://api.github.com/repos/MarkVoitov/usd_rates_prediction/git/tags{/sha}',\n",
       "  'git_refs_url': 'https://api.github.com/repos/MarkVoitov/usd_rates_prediction/git/refs{/sha}',\n",
       "  'trees_url': 'https://api.github.com/repos/MarkVoitov/usd_rates_prediction/git/trees{/sha}',\n",
       "  'statuses_url': 'https://api.github.com/repos/MarkVoitov/usd_rates_prediction/statuses/{sha}',\n",
       "  'languages_url': 'https://api.github.com/repos/MarkVoitov/usd_rates_prediction/languages',\n",
       "  'stargazers_url': 'https://api.github.com/repos/MarkVoitov/usd_rates_prediction/stargazers',\n",
       "  'contributors_url': 'https://api.github.com/repos/MarkVoitov/usd_rates_prediction/contributors',\n",
       "  'subscribers_url': 'https://api.github.com/repos/MarkVoitov/usd_rates_prediction/subscribers',\n",
       "  'subscription_url': 'https://api.github.com/repos/MarkVoitov/usd_rates_prediction/subscription',\n",
       "  'commits_url': 'https://api.github.com/repos/MarkVoitov/usd_rates_prediction/commits{/sha}',\n",
       "  'git_commits_url': 'https://api.github.com/repos/MarkVoitov/usd_rates_prediction/git/commits{/sha}',\n",
       "  'comments_url': 'https://api.github.com/repos/MarkVoitov/usd_rates_prediction/comments{/number}',\n",
       "  'issue_comment_url': 'https://api.github.com/repos/MarkVoitov/usd_rates_prediction/issues/comments{/number}',\n",
       "  'contents_url': 'https://api.github.com/repos/MarkVoitov/usd_rates_prediction/contents/{+path}',\n",
       "  'compare_url': 'https://api.github.com/repos/MarkVoitov/usd_rates_prediction/compare/{base}...{head}',\n",
       "  'merges_url': 'https://api.github.com/repos/MarkVoitov/usd_rates_prediction/merges',\n",
       "  'archive_url': 'https://api.github.com/repos/MarkVoitov/usd_rates_prediction/{archive_format}{/ref}',\n",
       "  'downloads_url': 'https://api.github.com/repos/MarkVoitov/usd_rates_prediction/downloads',\n",
       "  'issues_url': 'https://api.github.com/repos/MarkVoitov/usd_rates_prediction/issues{/number}',\n",
       "  'pulls_url': 'https://api.github.com/repos/MarkVoitov/usd_rates_prediction/pulls{/number}',\n",
       "  'milestones_url': 'https://api.github.com/repos/MarkVoitov/usd_rates_prediction/milestones{/number}',\n",
       "  'notifications_url': 'https://api.github.com/repos/MarkVoitov/usd_rates_prediction/notifications{?since,all,participating}',\n",
       "  'labels_url': 'https://api.github.com/repos/MarkVoitov/usd_rates_prediction/labels{/name}',\n",
       "  'releases_url': 'https://api.github.com/repos/MarkVoitov/usd_rates_prediction/releases{/id}',\n",
       "  'deployments_url': 'https://api.github.com/repos/MarkVoitov/usd_rates_prediction/deployments',\n",
       "  'created_at': '2020-06-21T21:02:29Z',\n",
       "  'updated_at': '2020-06-21T21:11:38Z',\n",
       "  'pushed_at': '2020-06-21T21:11:37Z',\n",
       "  'git_url': 'git://github.com/MarkVoitov/usd_rates_prediction.git',\n",
       "  'ssh_url': 'git@github.com:MarkVoitov/usd_rates_prediction.git',\n",
       "  'clone_url': 'https://github.com/MarkVoitov/usd_rates_prediction.git',\n",
       "  'svn_url': 'https://github.com/MarkVoitov/usd_rates_prediction',\n",
       "  'homepage': None,\n",
       "  'size': 284,\n",
       "  'stargazers_count': 0,\n",
       "  'watchers_count': 0,\n",
       "  'language': 'Jupyter Notebook',\n",
       "  'has_issues': True,\n",
       "  'has_projects': True,\n",
       "  'has_downloads': True,\n",
       "  'has_wiki': True,\n",
       "  'has_pages': False,\n",
       "  'forks_count': 0,\n",
       "  'mirror_url': None,\n",
       "  'archived': False,\n",
       "  'disabled': False,\n",
       "  'open_issues_count': 0,\n",
       "  'license': None,\n",
       "  'forks': 0,\n",
       "  'open_issues': 0,\n",
       "  'watchers': 0,\n",
       "  'default_branch': 'master'},\n",
       " {'id': 273523700,\n",
       "  'node_id': 'MDEwOlJlcG9zaXRvcnkyNzM1MjM3MDA=',\n",
       "  'name': 'credit_limit_determination_methodology',\n",
       "  'full_name': 'MarkVoitov/credit_limit_determination_methodology',\n",
       "  'private': False,\n",
       "  'owner': {'login': 'MarkVoitov',\n",
       "   'id': 56827081,\n",
       "   'node_id': 'MDQ6VXNlcjU2ODI3MDgx',\n",
       "   'avatar_url': 'https://avatars1.githubusercontent.com/u/56827081?v=4',\n",
       "   'gravatar_id': '',\n",
       "   'url': 'https://api.github.com/users/MarkVoitov',\n",
       "   'html_url': 'https://github.com/MarkVoitov',\n",
       "   'followers_url': 'https://api.github.com/users/MarkVoitov/followers',\n",
       "   'following_url': 'https://api.github.com/users/MarkVoitov/following{/other_user}',\n",
       "   'gists_url': 'https://api.github.com/users/MarkVoitov/gists{/gist_id}',\n",
       "   'starred_url': 'https://api.github.com/users/MarkVoitov/starred{/owner}{/repo}',\n",
       "   'subscriptions_url': 'https://api.github.com/users/MarkVoitov/subscriptions',\n",
       "   'organizations_url': 'https://api.github.com/users/MarkVoitov/orgs',\n",
       "   'repos_url': 'https://api.github.com/users/MarkVoitov/repos',\n",
       "   'events_url': 'https://api.github.com/users/MarkVoitov/events{/privacy}',\n",
       "   'received_events_url': 'https://api.github.com/users/MarkVoitov/received_events',\n",
       "   'type': 'User',\n",
       "   'site_admin': False},\n",
       "  'html_url': 'https://github.com/MarkVoitov/credit_limit_determination_methodology',\n",
       "  'description': 'Простенькая программа для условного расчёта лимита кредитования физ. лица в банке',\n",
       "  'fork': False,\n",
       "  'url': 'https://api.github.com/repos/MarkVoitov/credit_limit_determination_methodology',\n",
       "  'forks_url': 'https://api.github.com/repos/MarkVoitov/credit_limit_determination_methodology/forks',\n",
       "  'keys_url': 'https://api.github.com/repos/MarkVoitov/credit_limit_determination_methodology/keys{/key_id}',\n",
       "  'collaborators_url': 'https://api.github.com/repos/MarkVoitov/credit_limit_determination_methodology/collaborators{/collaborator}',\n",
       "  'teams_url': 'https://api.github.com/repos/MarkVoitov/credit_limit_determination_methodology/teams',\n",
       "  'hooks_url': 'https://api.github.com/repos/MarkVoitov/credit_limit_determination_methodology/hooks',\n",
       "  'issue_events_url': 'https://api.github.com/repos/MarkVoitov/credit_limit_determination_methodology/issues/events{/number}',\n",
       "  'events_url': 'https://api.github.com/repos/MarkVoitov/credit_limit_determination_methodology/events',\n",
       "  'assignees_url': 'https://api.github.com/repos/MarkVoitov/credit_limit_determination_methodology/assignees{/user}',\n",
       "  'branches_url': 'https://api.github.com/repos/MarkVoitov/credit_limit_determination_methodology/branches{/branch}',\n",
       "  'tags_url': 'https://api.github.com/repos/MarkVoitov/credit_limit_determination_methodology/tags',\n",
       "  'blobs_url': 'https://api.github.com/repos/MarkVoitov/credit_limit_determination_methodology/git/blobs{/sha}',\n",
       "  'git_tags_url': 'https://api.github.com/repos/MarkVoitov/credit_limit_determination_methodology/git/tags{/sha}',\n",
       "  'git_refs_url': 'https://api.github.com/repos/MarkVoitov/credit_limit_determination_methodology/git/refs{/sha}',\n",
       "  'trees_url': 'https://api.github.com/repos/MarkVoitov/credit_limit_determination_methodology/git/trees{/sha}',\n",
       "  'statuses_url': 'https://api.github.com/repos/MarkVoitov/credit_limit_determination_methodology/statuses/{sha}',\n",
       "  'languages_url': 'https://api.github.com/repos/MarkVoitov/credit_limit_determination_methodology/languages',\n",
       "  'stargazers_url': 'https://api.github.com/repos/MarkVoitov/credit_limit_determination_methodology/stargazers',\n",
       "  'contributors_url': 'https://api.github.com/repos/MarkVoitov/credit_limit_determination_methodology/contributors',\n",
       "  'subscribers_url': 'https://api.github.com/repos/MarkVoitov/credit_limit_determination_methodology/subscribers',\n",
       "  'subscription_url': 'https://api.github.com/repos/MarkVoitov/credit_limit_determination_methodology/subscription',\n",
       "  'commits_url': 'https://api.github.com/repos/MarkVoitov/credit_limit_determination_methodology/commits{/sha}',\n",
       "  'git_commits_url': 'https://api.github.com/repos/MarkVoitov/credit_limit_determination_methodology/git/commits{/sha}',\n",
       "  'comments_url': 'https://api.github.com/repos/MarkVoitov/credit_limit_determination_methodology/comments{/number}',\n",
       "  'issue_comment_url': 'https://api.github.com/repos/MarkVoitov/credit_limit_determination_methodology/issues/comments{/number}',\n",
       "  'contents_url': 'https://api.github.com/repos/MarkVoitov/credit_limit_determination_methodology/contents/{+path}',\n",
       "  'compare_url': 'https://api.github.com/repos/MarkVoitov/credit_limit_determination_methodology/compare/{base}...{head}',\n",
       "  'merges_url': 'https://api.github.com/repos/MarkVoitov/credit_limit_determination_methodology/merges',\n",
       "  'archive_url': 'https://api.github.com/repos/MarkVoitov/credit_limit_determination_methodology/{archive_format}{/ref}',\n",
       "  'downloads_url': 'https://api.github.com/repos/MarkVoitov/credit_limit_determination_methodology/downloads',\n",
       "  'issues_url': 'https://api.github.com/repos/MarkVoitov/credit_limit_determination_methodology/issues{/number}',\n",
       "  'pulls_url': 'https://api.github.com/repos/MarkVoitov/credit_limit_determination_methodology/pulls{/number}',\n",
       "  'milestones_url': 'https://api.github.com/repos/MarkVoitov/credit_limit_determination_methodology/milestones{/number}',\n",
       "  'notifications_url': 'https://api.github.com/repos/MarkVoitov/credit_limit_determination_methodology/notifications{?since,all,participating}',\n",
       "  'labels_url': 'https://api.github.com/repos/MarkVoitov/credit_limit_determination_methodology/labels{/name}',\n",
       "  'releases_url': 'https://api.github.com/repos/MarkVoitov/credit_limit_determination_methodology/releases{/id}',\n",
       "  'deployments_url': 'https://api.github.com/repos/MarkVoitov/credit_limit_determination_methodology/deployments',\n",
       "  'created_at': '2020-06-19T15:12:51Z',\n",
       "  'updated_at': '2020-06-19T19:48:04Z',\n",
       "  'pushed_at': '2020-06-19T15:30:52Z',\n",
       "  'git_url': 'git://github.com/MarkVoitov/credit_limit_determination_methodology.git',\n",
       "  'ssh_url': 'git@github.com:MarkVoitov/credit_limit_determination_methodology.git',\n",
       "  'clone_url': 'https://github.com/MarkVoitov/credit_limit_determination_methodology.git',\n",
       "  'svn_url': 'https://github.com/MarkVoitov/credit_limit_determination_methodology',\n",
       "  'homepage': None,\n",
       "  'size': 52,\n",
       "  'stargazers_count': 0,\n",
       "  'watchers_count': 0,\n",
       "  'language': 'Python',\n",
       "  'has_issues': True,\n",
       "  'has_projects': True,\n",
       "  'has_downloads': True,\n",
       "  'has_wiki': True,\n",
       "  'has_pages': False,\n",
       "  'forks_count': 0,\n",
       "  'mirror_url': None,\n",
       "  'archived': False,\n",
       "  'disabled': False,\n",
       "  'open_issues_count': 0,\n",
       "  'license': None,\n",
       "  'forks': 0,\n",
       "  'open_issues': 0,\n",
       "  'watchers': 0,\n",
       "  'default_branch': 'master'},\n",
       " {'id': 258023057,\n",
       "  'node_id': 'MDEwOlJlcG9zaXRvcnkyNTgwMjMwNTc=',\n",
       "  'name': 'Random_Forest_Prediction',\n",
       "  'full_name': 'MarkVoitov/Random_Forest_Prediction',\n",
       "  'private': False,\n",
       "  'owner': {'login': 'MarkVoitov',\n",
       "   'id': 56827081,\n",
       "   'node_id': 'MDQ6VXNlcjU2ODI3MDgx',\n",
       "   'avatar_url': 'https://avatars1.githubusercontent.com/u/56827081?v=4',\n",
       "   'gravatar_id': '',\n",
       "   'url': 'https://api.github.com/users/MarkVoitov',\n",
       "   'html_url': 'https://github.com/MarkVoitov',\n",
       "   'followers_url': 'https://api.github.com/users/MarkVoitov/followers',\n",
       "   'following_url': 'https://api.github.com/users/MarkVoitov/following{/other_user}',\n",
       "   'gists_url': 'https://api.github.com/users/MarkVoitov/gists{/gist_id}',\n",
       "   'starred_url': 'https://api.github.com/users/MarkVoitov/starred{/owner}{/repo}',\n",
       "   'subscriptions_url': 'https://api.github.com/users/MarkVoitov/subscriptions',\n",
       "   'organizations_url': 'https://api.github.com/users/MarkVoitov/orgs',\n",
       "   'repos_url': 'https://api.github.com/users/MarkVoitov/repos',\n",
       "   'events_url': 'https://api.github.com/users/MarkVoitov/events{/privacy}',\n",
       "   'received_events_url': 'https://api.github.com/users/MarkVoitov/received_events',\n",
       "   'type': 'User',\n",
       "   'site_admin': False},\n",
       "  'html_url': 'https://github.com/MarkVoitov/Random_Forest_Prediction',\n",
       "  'description': 'Применение алгоритма машинного обучения Random Forest для задачи регрессии',\n",
       "  'fork': False,\n",
       "  'url': 'https://api.github.com/repos/MarkVoitov/Random_Forest_Prediction',\n",
       "  'forks_url': 'https://api.github.com/repos/MarkVoitov/Random_Forest_Prediction/forks',\n",
       "  'keys_url': 'https://api.github.com/repos/MarkVoitov/Random_Forest_Prediction/keys{/key_id}',\n",
       "  'collaborators_url': 'https://api.github.com/repos/MarkVoitov/Random_Forest_Prediction/collaborators{/collaborator}',\n",
       "  'teams_url': 'https://api.github.com/repos/MarkVoitov/Random_Forest_Prediction/teams',\n",
       "  'hooks_url': 'https://api.github.com/repos/MarkVoitov/Random_Forest_Prediction/hooks',\n",
       "  'issue_events_url': 'https://api.github.com/repos/MarkVoitov/Random_Forest_Prediction/issues/events{/number}',\n",
       "  'events_url': 'https://api.github.com/repos/MarkVoitov/Random_Forest_Prediction/events',\n",
       "  'assignees_url': 'https://api.github.com/repos/MarkVoitov/Random_Forest_Prediction/assignees{/user}',\n",
       "  'branches_url': 'https://api.github.com/repos/MarkVoitov/Random_Forest_Prediction/branches{/branch}',\n",
       "  'tags_url': 'https://api.github.com/repos/MarkVoitov/Random_Forest_Prediction/tags',\n",
       "  'blobs_url': 'https://api.github.com/repos/MarkVoitov/Random_Forest_Prediction/git/blobs{/sha}',\n",
       "  'git_tags_url': 'https://api.github.com/repos/MarkVoitov/Random_Forest_Prediction/git/tags{/sha}',\n",
       "  'git_refs_url': 'https://api.github.com/repos/MarkVoitov/Random_Forest_Prediction/git/refs{/sha}',\n",
       "  'trees_url': 'https://api.github.com/repos/MarkVoitov/Random_Forest_Prediction/git/trees{/sha}',\n",
       "  'statuses_url': 'https://api.github.com/repos/MarkVoitov/Random_Forest_Prediction/statuses/{sha}',\n",
       "  'languages_url': 'https://api.github.com/repos/MarkVoitov/Random_Forest_Prediction/languages',\n",
       "  'stargazers_url': 'https://api.github.com/repos/MarkVoitov/Random_Forest_Prediction/stargazers',\n",
       "  'contributors_url': 'https://api.github.com/repos/MarkVoitov/Random_Forest_Prediction/contributors',\n",
       "  'subscribers_url': 'https://api.github.com/repos/MarkVoitov/Random_Forest_Prediction/subscribers',\n",
       "  'subscription_url': 'https://api.github.com/repos/MarkVoitov/Random_Forest_Prediction/subscription',\n",
       "  'commits_url': 'https://api.github.com/repos/MarkVoitov/Random_Forest_Prediction/commits{/sha}',\n",
       "  'git_commits_url': 'https://api.github.com/repos/MarkVoitov/Random_Forest_Prediction/git/commits{/sha}',\n",
       "  'comments_url': 'https://api.github.com/repos/MarkVoitov/Random_Forest_Prediction/comments{/number}',\n",
       "  'issue_comment_url': 'https://api.github.com/repos/MarkVoitov/Random_Forest_Prediction/issues/comments{/number}',\n",
       "  'contents_url': 'https://api.github.com/repos/MarkVoitov/Random_Forest_Prediction/contents/{+path}',\n",
       "  'compare_url': 'https://api.github.com/repos/MarkVoitov/Random_Forest_Prediction/compare/{base}...{head}',\n",
       "  'merges_url': 'https://api.github.com/repos/MarkVoitov/Random_Forest_Prediction/merges',\n",
       "  'archive_url': 'https://api.github.com/repos/MarkVoitov/Random_Forest_Prediction/{archive_format}{/ref}',\n",
       "  'downloads_url': 'https://api.github.com/repos/MarkVoitov/Random_Forest_Prediction/downloads',\n",
       "  'issues_url': 'https://api.github.com/repos/MarkVoitov/Random_Forest_Prediction/issues{/number}',\n",
       "  'pulls_url': 'https://api.github.com/repos/MarkVoitov/Random_Forest_Prediction/pulls{/number}',\n",
       "  'milestones_url': 'https://api.github.com/repos/MarkVoitov/Random_Forest_Prediction/milestones{/number}',\n",
       "  'notifications_url': 'https://api.github.com/repos/MarkVoitov/Random_Forest_Prediction/notifications{?since,all,participating}',\n",
       "  'labels_url': 'https://api.github.com/repos/MarkVoitov/Random_Forest_Prediction/labels{/name}',\n",
       "  'releases_url': 'https://api.github.com/repos/MarkVoitov/Random_Forest_Prediction/releases{/id}',\n",
       "  'deployments_url': 'https://api.github.com/repos/MarkVoitov/Random_Forest_Prediction/deployments',\n",
       "  'created_at': '2020-04-22T21:22:33Z',\n",
       "  'updated_at': '2020-04-22T21:49:30Z',\n",
       "  'pushed_at': '2020-04-22T21:49:28Z',\n",
       "  'git_url': 'git://github.com/MarkVoitov/Random_Forest_Prediction.git',\n",
       "  'ssh_url': 'git@github.com:MarkVoitov/Random_Forest_Prediction.git',\n",
       "  'clone_url': 'https://github.com/MarkVoitov/Random_Forest_Prediction.git',\n",
       "  'svn_url': 'https://github.com/MarkVoitov/Random_Forest_Prediction',\n",
       "  'homepage': None,\n",
       "  'size': 76,\n",
       "  'stargazers_count': 0,\n",
       "  'watchers_count': 0,\n",
       "  'language': 'Jupyter Notebook',\n",
       "  'has_issues': True,\n",
       "  'has_projects': True,\n",
       "  'has_downloads': True,\n",
       "  'has_wiki': True,\n",
       "  'has_pages': False,\n",
       "  'forks_count': 0,\n",
       "  'mirror_url': None,\n",
       "  'archived': False,\n",
       "  'disabled': False,\n",
       "  'open_issues_count': 0,\n",
       "  'license': None,\n",
       "  'forks': 0,\n",
       "  'open_issues': 0,\n",
       "  'watchers': 0,\n",
       "  'default_branch': 'master'}]"
      ]
     },
     "execution_count": 51,
     "metadata": {},
     "output_type": "execute_result"
    }
   ],
   "source": [
    "last_5_repositories = sorted(repos, key=lambda r: r['created_at'], reverse=True)[:5]\n",
    "last_5_repositories"
   ]
  },
  {
   "cell_type": "code",
   "execution_count": 52,
   "metadata": {},
   "outputs": [
    {
     "data": {
      "text/plain": [
       "['Jupyter Notebook',\n",
       " 'Python',\n",
       " 'Jupyter Notebook',\n",
       " 'Python',\n",
       " 'Jupyter Notebook']"
      ]
     },
     "execution_count": 52,
     "metadata": {},
     "output_type": "execute_result"
    }
   ],
   "source": [
    "last_5_languages = [repo['language'] for repo in last_5_repositories]\n",
    "last_5_languages"
   ]
  },
  {
   "cell_type": "markdown",
   "metadata": {},
   "source": [
    "## API search"
   ]
  },
  {
   "cell_type": "code",
   "execution_count": null,
   "metadata": {},
   "outputs": [],
   "source": [
    "# all API links available at https://github.com/MarkVoitov/data-science-from-scratch/blob/master/links.md"
   ]
  },
  {
   "cell_type": "markdown",
   "metadata": {},
   "source": [
    "# Example: using Twitter API"
   ]
  },
  {
   "cell_type": "markdown",
   "metadata": {},
   "source": [
    "## Getting credentials"
   ]
  },
  {
   "cell_type": "code",
   "execution_count": null,
   "metadata": {},
   "outputs": [],
   "source": [
    "# https://developer.twitter.com/apps"
   ]
  },
  {
   "cell_type": "markdown",
   "metadata": {},
   "source": [
    "## Using Twython"
   ]
  },
  {
   "cell_type": "code",
   "execution_count": 53,
   "metadata": {},
   "outputs": [
    {
     "ename": "ModuleNotFoundError",
     "evalue": "No module named 'twython'",
     "output_type": "error",
     "traceback": [
      "\u001b[1;31m---------------------------------------------------------------------------\u001b[0m",
      "\u001b[1;31mModuleNotFoundError\u001b[0m                       Traceback (most recent call last)",
      "\u001b[1;32m<ipython-input-53-8dd577efe8b4>\u001b[0m in \u001b[0;36m<module>\u001b[1;34m\u001b[0m\n\u001b[1;32m----> 1\u001b[1;33m \u001b[1;32mfrom\u001b[0m \u001b[0mtwython\u001b[0m \u001b[1;32mimport\u001b[0m \u001b[0mTwython\u001b[0m\u001b[1;33m\u001b[0m\u001b[1;33m\u001b[0m\u001b[0m\n\u001b[0m\u001b[0;32m      2\u001b[0m \u001b[1;33m\u001b[0m\u001b[0m\n\u001b[0;32m      3\u001b[0m \u001b[0mtwitter\u001b[0m \u001b[1;33m=\u001b[0m \u001b[0mTwython\u001b[0m\u001b[1;33m(\u001b[0m\u001b[0mCONSUMER_KEY\u001b[0m\u001b[1;33m,\u001b[0m \u001b[0mCONSUMER_SECRET\u001b[0m\u001b[1;33m)\u001b[0m\u001b[1;33m\u001b[0m\u001b[1;33m\u001b[0m\u001b[0m\n\u001b[0;32m      4\u001b[0m \u001b[1;33m\u001b[0m\u001b[0m\n\u001b[0;32m      5\u001b[0m \u001b[1;31m# search for tweets including phrase 'data science'\u001b[0m\u001b[1;33m\u001b[0m\u001b[1;33m\u001b[0m\u001b[1;33m\u001b[0m\u001b[0m\n",
      "\u001b[1;31mModuleNotFoundError\u001b[0m: No module named 'twython'"
     ]
    }
   ],
   "source": [
    "from twython import Twython\n",
    "\n",
    "twitter = Twython(CONSUMER_KEY, CONSUMER_SECRET)\n",
    "\n",
    "# search for tweets including phrase 'data science'\n",
    "for status in twitter.search(q='\"data science\"')[\"statuses\"]:\n",
    "    user = status[\"user\"][\"screen_name\"].encode('utf-8')\n",
    "    print(user, \":\", text)"
   ]
  },
  {
   "cell_type": "code",
   "execution_count": 54,
   "metadata": {},
   "outputs": [
    {
     "ename": "ModuleNotFoundError",
     "evalue": "No module named 'twython'",
     "output_type": "error",
     "traceback": [
      "\u001b[1;31m---------------------------------------------------------------------------\u001b[0m",
      "\u001b[1;31mModuleNotFoundError\u001b[0m                       Traceback (most recent call last)",
      "\u001b[1;32m<ipython-input-54-436e9f8ac5b0>\u001b[0m in \u001b[0;36m<module>\u001b[1;34m\u001b[0m\n\u001b[1;32m----> 1\u001b[1;33m \u001b[1;32mfrom\u001b[0m \u001b[0mtwython\u001b[0m \u001b[1;32mimport\u001b[0m \u001b[0mTwythonStreamer\u001b[0m\u001b[1;33m\u001b[0m\u001b[1;33m\u001b[0m\u001b[0m\n\u001b[0m\u001b[0;32m      2\u001b[0m \u001b[1;33m\u001b[0m\u001b[0m\n\u001b[0;32m      3\u001b[0m \u001b[0mtweets\u001b[0m \u001b[1;33m=\u001b[0m \u001b[1;33m[\u001b[0m\u001b[1;33m]\u001b[0m\u001b[1;33m\u001b[0m\u001b[1;33m\u001b[0m\u001b[0m\n\u001b[0;32m      4\u001b[0m \u001b[1;33m\u001b[0m\u001b[0m\n\u001b[0;32m      5\u001b[0m \u001b[1;32mclass\u001b[0m \u001b[0mMyStreamer\u001b[0m\u001b[1;33m(\u001b[0m\u001b[0mTwythonStreamer\u001b[0m\u001b[1;33m)\u001b[0m\u001b[1;33m:\u001b[0m\u001b[1;33m\u001b[0m\u001b[1;33m\u001b[0m\u001b[0m\n",
      "\u001b[1;31mModuleNotFoundError\u001b[0m: No module named 'twython'"
     ]
    }
   ],
   "source": [
    "from twython import TwythonStreamer\n",
    "\n",
    "tweets = []\n",
    "\n",
    "class MyStreamer(TwythonStreamer):\n",
    "    def on_success(self, data):\n",
    "        if data ['lang'] == 'en':\n",
    "            tweets.append(data)\n",
    "            print(\"received tweet #\", len(tweets))\n",
    "        if len(tweets) >= 1000:\n",
    "            self.disconnect()\n",
    "            \n",
    "            \n",
    "    def on_error(self, status_code, data):\n",
    "        print(status_code, data)\n",
    "        self.disconnect()"
   ]
  },
  {
   "cell_type": "code",
   "execution_count": 55,
   "metadata": {},
   "outputs": [
    {
     "ename": "NameError",
     "evalue": "name 'MyStreamer' is not defined",
     "output_type": "error",
     "traceback": [
      "\u001b[1;31m---------------------------------------------------------------------------\u001b[0m",
      "\u001b[1;31mNameError\u001b[0m                                 Traceback (most recent call last)",
      "\u001b[1;32m<ipython-input-55-db9386e241f2>\u001b[0m in \u001b[0;36m<module>\u001b[1;34m\u001b[0m\n\u001b[1;32m----> 1\u001b[1;33m \u001b[0mstream\u001b[0m \u001b[1;33m=\u001b[0m \u001b[0mMyStreamer\u001b[0m\u001b[1;33m(\u001b[0m\u001b[0mCONSUMER_KEY\u001b[0m\u001b[1;33m,\u001b[0m \u001b[0mCONSUMER_SECRET\u001b[0m\u001b[1;33m,\u001b[0m \u001b[0mACCESS_TOKEN\u001b[0m\u001b[1;33m,\u001b[0m \u001b[0mACCESS_TOKEN_SECRET\u001b[0m\u001b[1;33m)\u001b[0m\u001b[1;33m\u001b[0m\u001b[1;33m\u001b[0m\u001b[0m\n\u001b[0m\u001b[0;32m      2\u001b[0m \u001b[0mstream\u001b[0m\u001b[1;33m.\u001b[0m\u001b[0mstatuses\u001b[0m\u001b[1;33m.\u001b[0m\u001b[0mfilter\u001b[0m\u001b[1;33m(\u001b[0m\u001b[0mtrack\u001b[0m\u001b[1;33m=\u001b[0m\u001b[1;34m'data'\u001b[0m\u001b[1;33m)\u001b[0m\u001b[1;33m\u001b[0m\u001b[1;33m\u001b[0m\u001b[0m\n",
      "\u001b[1;31mNameError\u001b[0m: name 'MyStreamer' is not defined"
     ]
    }
   ],
   "source": [
    "stream = MyStreamer(CONSUMER_KEY, CONSUMER_SECRET, ACCESS_TOKEN, ACCESS_TOKEN_SECRET)\n",
    "stream.statuses.filter(track='data')"
   ]
  },
  {
   "cell_type": "code",
   "execution_count": 56,
   "metadata": {},
   "outputs": [
    {
     "ename": "NameError",
     "evalue": "name 'tweets' is not defined",
     "output_type": "error",
     "traceback": [
      "\u001b[1;31m---------------------------------------------------------------------------\u001b[0m",
      "\u001b[1;31mNameError\u001b[0m                                 Traceback (most recent call last)",
      "\u001b[1;32m<ipython-input-56-7d7e9cb9555d>\u001b[0m in \u001b[0;36m<module>\u001b[1;34m\u001b[0m\n\u001b[0;32m      1\u001b[0m top_hashtags = Counter(hashtag['text'].lower()\n\u001b[1;32m----> 2\u001b[1;33m                       \u001b[1;32mfor\u001b[0m \u001b[0mtweet\u001b[0m \u001b[1;32min\u001b[0m \u001b[0mtweets\u001b[0m\u001b[1;33m\u001b[0m\u001b[1;33m\u001b[0m\u001b[0m\n\u001b[0m\u001b[0;32m      3\u001b[0m                       for hashtag in tweet[\"entities\"][\"hashtags\"])\n\u001b[0;32m      4\u001b[0m \u001b[0mtop_hashtags\u001b[0m\u001b[1;33m.\u001b[0m\u001b[0mmost_common\u001b[0m\u001b[1;33m(\u001b[0m\u001b[1;36m5\u001b[0m\u001b[1;33m)\u001b[0m\u001b[1;33m\u001b[0m\u001b[1;33m\u001b[0m\u001b[0m\n",
      "\u001b[1;31mNameError\u001b[0m: name 'tweets' is not defined"
     ]
    }
   ],
   "source": [
    "top_hashtags = Counter(hashtag['text'].lower()\n",
    "                      for tweet in tweets\n",
    "                      for hashtag in tweet[\"entities\"][\"hashtags\"])\n",
    "top_hashtags.most_common(5)"
   ]
  },
  {
   "cell_type": "code",
   "execution_count": null,
   "metadata": {},
   "outputs": [],
   "source": []
  }
 ],
 "metadata": {
  "kernelspec": {
   "display_name": "Python 3",
   "language": "python",
   "name": "python3"
  },
  "language_info": {
   "codemirror_mode": {
    "name": "ipython",
    "version": 3
   },
   "file_extension": ".py",
   "mimetype": "text/x-python",
   "name": "python",
   "nbconvert_exporter": "python",
   "pygments_lexer": "ipython3",
   "version": "3.7.6"
  }
 },
 "nbformat": 4,
 "nbformat_minor": 4
}
